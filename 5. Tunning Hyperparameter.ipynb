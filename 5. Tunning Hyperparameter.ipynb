{
 "cells": [
  {
   "cell_type": "markdown",
   "metadata": {},
   "source": [
    "# OVERVIEW"
   ]
  },
  {
   "cell_type": "markdown",
   "metadata": {},
   "source": [
    "In this section, we will optimize our model by tuning our hyperparameter. The model that will be tuned is Extreme Gradient Boosting. Because, XGBoost have good evaluation metrics. The parameter that will be tuned are:\n",
    "1. Number of Tree (n_estimators)\n",
    "2. Maximum of Tree (max_depth)\n",
    "3. Minimum Sample in Leaf (min_child_weight)\n",
    "4. Gamma (gamma)\n",
    "5. Number of Data for Bootstrap (subsample)\n",
    "6. Maximum Feature in Percent (colsample_bytree)\n",
    "7. Coeficient for Lasso (reg_alpha)\n",
    "8. Coeficient for Ridge (reg_lambda)\n",
    "9. Learning Rate (learning_rate)"
   ]
  },
  {
   "cell_type": "markdown",
   "metadata": {},
   "source": [
    "# IMPORT LIBRARY"
   ]
  },
  {
   "cell_type": "code",
   "execution_count": 39,
   "metadata": {
    "collapsed": true
   },
   "outputs": [],
   "source": [
    "import pandas as pd\n",
    "import numpy as np\n",
    "import matplotlib.pyplot as plt\n",
    "\n",
    "import warnings\n",
    "warnings.filterwarnings(\"ignore\")"
   ]
  },
  {
   "cell_type": "code",
   "execution_count": 40,
   "metadata": {
    "collapsed": true
   },
   "outputs": [],
   "source": [
    "df_main = pd.read_csv('CLEAN DATASET.csv')\n",
    "df_main = df_main.drop(['bank_id'],axis=1)\n",
    "df_main = pd.get_dummies(df_main)"
   ]
  },
  {
   "cell_type": "markdown",
   "metadata": {},
   "source": [
    "# SPLITTING ORIGINAL DATASET AND VALIDATION DATASET"
   ]
  },
  {
   "cell_type": "code",
   "execution_count": 41,
   "metadata": {
    "collapsed": true
   },
   "outputs": [],
   "source": [
    "df_train = df_main[:26315]\n",
    "df_test = df_main[26315:]"
   ]
  },
  {
   "cell_type": "code",
   "execution_count": 42,
   "metadata": {
    "collapsed": true
   },
   "outputs": [],
   "source": [
    "X = df_train.drop(['DELQ_FLG'],1)\n",
    "y = df_train['DELQ_FLG']\n",
    "X_valid = df_test.drop(['DELQ_FLG'],1)"
   ]
  },
  {
   "cell_type": "markdown",
   "metadata": {},
   "source": [
    "# SPLITTING TRAINING AND TESTING DATASET"
   ]
  },
  {
   "cell_type": "code",
   "execution_count": 50,
   "metadata": {
    "collapsed": true
   },
   "outputs": [],
   "source": [
    "from sklearn.model_selection import train_test_split\n",
    "X_train,X_test,y_train,y_test = train_test_split(X,y,test_size = 0.3,stratify=y,random_state=123)"
   ]
  },
  {
   "cell_type": "code",
   "execution_count": 51,
   "metadata": {},
   "outputs": [
    {
     "data": {
      "text/html": [
       "<div>\n",
       "<table border=\"1\" class=\"dataframe\">\n",
       "  <thead>\n",
       "    <tr style=\"text-align: right;\">\n",
       "      <th></th>\n",
       "      <th>AGE</th>\n",
       "      <th>DEPENDENT_CNT</th>\n",
       "      <th>SA_AVG_BAL</th>\n",
       "      <th>SA_CNT</th>\n",
       "      <th>CC_CNT</th>\n",
       "      <th>HP_CNT</th>\n",
       "      <th>TL_CNT</th>\n",
       "      <th>TLi_CNT</th>\n",
       "      <th>INS_CREDIT_LIFE_CNT</th>\n",
       "      <th>INS_LIFE_CNT</th>\n",
       "      <th>...</th>\n",
       "      <th>OCC_DESC_MANAGER OR SUPERVISOR</th>\n",
       "      <th>OCC_DESC_NON-EXECUTIVE</th>\n",
       "      <th>OCC_DESC_OTHERS</th>\n",
       "      <th>OCC_DESC_PROFESSIONAL</th>\n",
       "      <th>OCC_DESC_RETIRED</th>\n",
       "      <th>OCC_DESC_SELF EMPLOYED</th>\n",
       "      <th>OCC_DESC_STUDENT</th>\n",
       "      <th>CUST_SEGMENT_MASS</th>\n",
       "      <th>CUST_SEGMENT_PREFERRED</th>\n",
       "      <th>CUST_SEGMENT_PRIME</th>\n",
       "    </tr>\n",
       "  </thead>\n",
       "  <tbody>\n",
       "    <tr>\n",
       "      <th>11700</th>\n",
       "      <td>34</td>\n",
       "      <td>0.0</td>\n",
       "      <td>1553.232258</td>\n",
       "      <td>1.0</td>\n",
       "      <td>0</td>\n",
       "      <td>0</td>\n",
       "      <td>0</td>\n",
       "      <td>0</td>\n",
       "      <td>0</td>\n",
       "      <td>0</td>\n",
       "      <td>...</td>\n",
       "      <td>0</td>\n",
       "      <td>1</td>\n",
       "      <td>0</td>\n",
       "      <td>0</td>\n",
       "      <td>0</td>\n",
       "      <td>0</td>\n",
       "      <td>0</td>\n",
       "      <td>1</td>\n",
       "      <td>0</td>\n",
       "      <td>0</td>\n",
       "    </tr>\n",
       "    <tr>\n",
       "      <th>373</th>\n",
       "      <td>54</td>\n",
       "      <td>0.0</td>\n",
       "      <td>7133.668387</td>\n",
       "      <td>1.0</td>\n",
       "      <td>2</td>\n",
       "      <td>0</td>\n",
       "      <td>0</td>\n",
       "      <td>0</td>\n",
       "      <td>0</td>\n",
       "      <td>0</td>\n",
       "      <td>...</td>\n",
       "      <td>0</td>\n",
       "      <td>0</td>\n",
       "      <td>1</td>\n",
       "      <td>0</td>\n",
       "      <td>0</td>\n",
       "      <td>0</td>\n",
       "      <td>0</td>\n",
       "      <td>1</td>\n",
       "      <td>0</td>\n",
       "      <td>0</td>\n",
       "    </tr>\n",
       "    <tr>\n",
       "      <th>12338</th>\n",
       "      <td>33</td>\n",
       "      <td>0.0</td>\n",
       "      <td>8591.495484</td>\n",
       "      <td>2.0</td>\n",
       "      <td>2</td>\n",
       "      <td>0</td>\n",
       "      <td>0</td>\n",
       "      <td>0</td>\n",
       "      <td>0</td>\n",
       "      <td>0</td>\n",
       "      <td>...</td>\n",
       "      <td>0</td>\n",
       "      <td>0</td>\n",
       "      <td>0</td>\n",
       "      <td>1</td>\n",
       "      <td>0</td>\n",
       "      <td>0</td>\n",
       "      <td>0</td>\n",
       "      <td>1</td>\n",
       "      <td>0</td>\n",
       "      <td>0</td>\n",
       "    </tr>\n",
       "    <tr>\n",
       "      <th>4831</th>\n",
       "      <td>42</td>\n",
       "      <td>0.0</td>\n",
       "      <td>701.461290</td>\n",
       "      <td>1.0</td>\n",
       "      <td>2</td>\n",
       "      <td>0</td>\n",
       "      <td>0</td>\n",
       "      <td>0</td>\n",
       "      <td>0</td>\n",
       "      <td>0</td>\n",
       "      <td>...</td>\n",
       "      <td>0</td>\n",
       "      <td>0</td>\n",
       "      <td>0</td>\n",
       "      <td>0</td>\n",
       "      <td>0</td>\n",
       "      <td>0</td>\n",
       "      <td>0</td>\n",
       "      <td>1</td>\n",
       "      <td>0</td>\n",
       "      <td>0</td>\n",
       "    </tr>\n",
       "    <tr>\n",
       "      <th>15914</th>\n",
       "      <td>31</td>\n",
       "      <td>1.0</td>\n",
       "      <td>153.199677</td>\n",
       "      <td>1.0</td>\n",
       "      <td>0</td>\n",
       "      <td>0</td>\n",
       "      <td>0</td>\n",
       "      <td>0</td>\n",
       "      <td>1</td>\n",
       "      <td>0</td>\n",
       "      <td>...</td>\n",
       "      <td>0</td>\n",
       "      <td>0</td>\n",
       "      <td>1</td>\n",
       "      <td>0</td>\n",
       "      <td>0</td>\n",
       "      <td>0</td>\n",
       "      <td>0</td>\n",
       "      <td>1</td>\n",
       "      <td>0</td>\n",
       "      <td>0</td>\n",
       "    </tr>\n",
       "  </tbody>\n",
       "</table>\n",
       "<p>5 rows × 156 columns</p>\n",
       "</div>"
      ],
      "text/plain": [
       "       AGE  DEPENDENT_CNT   SA_AVG_BAL  SA_CNT  CC_CNT  HP_CNT  TL_CNT  \\\n",
       "11700   34            0.0  1553.232258     1.0       0       0       0   \n",
       "373     54            0.0  7133.668387     1.0       2       0       0   \n",
       "12338   33            0.0  8591.495484     2.0       2       0       0   \n",
       "4831    42            0.0   701.461290     1.0       2       0       0   \n",
       "15914   31            1.0   153.199677     1.0       0       0       0   \n",
       "\n",
       "       TLi_CNT  INS_CREDIT_LIFE_CNT  INS_LIFE_CNT         ...          \\\n",
       "11700        0                    0             0         ...           \n",
       "373          0                    0             0         ...           \n",
       "12338        0                    0             0         ...           \n",
       "4831         0                    0             0         ...           \n",
       "15914        0                    1             0         ...           \n",
       "\n",
       "       OCC_DESC_MANAGER OR SUPERVISOR  OCC_DESC_NON-EXECUTIVE  \\\n",
       "11700                               0                       1   \n",
       "373                                 0                       0   \n",
       "12338                               0                       0   \n",
       "4831                                0                       0   \n",
       "15914                               0                       0   \n",
       "\n",
       "       OCC_DESC_OTHERS  OCC_DESC_PROFESSIONAL  OCC_DESC_RETIRED  \\\n",
       "11700                0                      0                 0   \n",
       "373                  1                      0                 0   \n",
       "12338                0                      1                 0   \n",
       "4831                 0                      0                 0   \n",
       "15914                1                      0                 0   \n",
       "\n",
       "       OCC_DESC_SELF EMPLOYED  OCC_DESC_STUDENT  CUST_SEGMENT_MASS  \\\n",
       "11700                       0                 0                  1   \n",
       "373                         0                 0                  1   \n",
       "12338                       0                 0                  1   \n",
       "4831                        0                 0                  1   \n",
       "15914                       0                 0                  1   \n",
       "\n",
       "       CUST_SEGMENT_PREFERRED  CUST_SEGMENT_PRIME  \n",
       "11700                       0                   0  \n",
       "373                         0                   0  \n",
       "12338                       0                   0  \n",
       "4831                        0                   0  \n",
       "15914                       0                   0  \n",
       "\n",
       "[5 rows x 156 columns]"
      ]
     },
     "execution_count": 51,
     "metadata": {},
     "output_type": "execute_result"
    }
   ],
   "source": [
    "X_train.head()"
   ]
  },
  {
   "cell_type": "code",
   "execution_count": 52,
   "metadata": {
    "collapsed": true
   },
   "outputs": [],
   "source": [
    "X_train = np.asmatrix(X_train)\n",
    "X_test = np.asmatrix(X_test)"
   ]
  },
  {
   "cell_type": "markdown",
   "metadata": {},
   "source": [
    "\n"
   ]
  },
  {
   "cell_type": "markdown",
   "metadata": {},
   "source": [
    "________"
   ]
  },
  {
   "cell_type": "markdown",
   "metadata": {},
   "source": [
    "______________"
   ]
  },
  {
   "cell_type": "code",
   "execution_count": 27,
   "metadata": {},
   "outputs": [],
   "source": [
    "from imblearn.pipeline import Pipeline\n",
    "from xgboost.sklearn import XGBClassifier\n",
    "from sklearn.model_selection import StratifiedKFold,GridSearchCV\n",
    "from sklearn.feature_selection import SelectFromModel"
   ]
  },
  {
   "cell_type": "code",
   "execution_count": 28,
   "metadata": {
    "collapsed": true
   },
   "outputs": [],
   "source": [
    "from imblearn.over_sampling import RandomOverSampler, SMOTE, ADASYN\n",
    "from imblearn.under_sampling import RandomUnderSampler\n",
    "from collections import Counter "
   ]
  },
  {
   "cell_type": "markdown",
   "metadata": {},
   "source": [
    "# Eval Metrics"
   ]
  },
  {
   "cell_type": "code",
   "execution_count": 29,
   "metadata": {
    "collapsed": true
   },
   "outputs": [],
   "source": [
    "# library untuk evaluasi hasil prediksi\n",
    "from sklearn.metrics import classification_report, confusion_matrix\n",
    "from imblearn.metrics import geometric_mean_score\n",
    "from sklearn.metrics import make_scorer,precision_score\n",
    "from sklearn.metrics import recall_score,accuracy_score,f1_score\n",
    "\n",
    "# library untuk menghitung skor validasi silang\n",
    "from sklearn.model_selection import cross_val_score\n",
    "\n",
    "# library untuk melakukan validasi silang secara berstrata\n",
    "from sklearn.model_selection import StratifiedKFold"
   ]
  },
  {
   "cell_type": "code",
   "execution_count": 30,
   "metadata": {
    "collapsed": true
   },
   "outputs": [],
   "source": [
    "def geometri_score(y_true,y_pred):\n",
    "    from sklearn.metrics import confusion_matrix\n",
    "    spe = confusion_matrix(y_true,y_pred)[0,0]/(confusion_matrix(y_true,y_pred)[0,0]+confusion_matrix(y_true,y_pred)[0,1])\n",
    "    sen = recall_score(y_true,y_pred)\n",
    "    acc = accuracy_score(y_true,y_pred)\n",
    "    eval_baru = (spe*sen*acc)**(1/3)\n",
    "    return eval_baru\n",
    "\n",
    "geometri = make_scorer(geometri_score)"
   ]
  },
  {
   "cell_type": "code",
   "execution_count": 31,
   "metadata": {},
   "outputs": [
    {
     "name": "stdout",
     "output_type": "stream",
     "text": [
      "{'precision_score': make_scorer(precision_score), 'recall_score': make_scorer(recall_score), 'accuracy_score': make_scorer(accuracy_score), 'auc': make_scorer(auc), 'geometric_mean_score': make_scorer(geometri_score)}\n"
     ]
    }
   ],
   "source": [
    "from sklearn.metrics import make_scorer,precision_score,recall_score,accuracy_score,auc\n",
    "scorers = {\n",
    "    'precision_score':make_scorer(precision_score),\n",
    "    'recall_score':make_scorer(recall_score),\n",
    "    'accuracy_score':make_scorer(accuracy_score),\n",
    "    'auc':make_scorer(auc),\n",
    "    'geometric_mean_score': make_scorer(geometri_score)\n",
    "}\n",
    "print(scorers)"
   ]
  },
  {
   "cell_type": "code",
   "execution_count": 22,
   "metadata": {
    "collapsed": true
   },
   "outputs": [],
   "source": [
    "# menegmbangkan fungsi untuk evaluasi\n",
    "\n",
    "skf = StratifiedKFold(n_splits=5,random_state=10)\n",
    "\n",
    "def eval_cv(alg,X,y):\n",
    "    print(\"akurasi cv : \\n\",\n",
    "          cross_val_score(alg,X,y,scoring=\"accuracy\",cv=skf),\"\\n\",\n",
    "          cross_val_score(alg,X,y,scoring=\"accuracy\",cv=skf).mean(),\"\\n\")\n",
    "    print(\"recall cv : \\n\",\n",
    "          cross_val_score(alg,X,y,scoring=\"recall\",cv=skf),\"\\n\",\n",
    "          cross_val_score(alg,X,y,scoring=\"recall\",cv=skf).mean(),\"\\n\")\n",
    "    print(\"presisi cv : \\n\",\n",
    "          cross_val_score(alg,X,y,scoring=\"precision\",cv=skf),\"\\n\",\n",
    "          cross_val_score(alg,X,y,scoring=\"precision\",cv=skf).mean(),\"\\n\")\n",
    "    print(\"f1 cv : \\n\",\n",
    "          cross_val_score(alg,X,y,scoring=\"f1\",cv=skf),\"\\n\",\n",
    "          cross_val_score(alg,X,y,scoring=\"f1\",cv=skf).mean(),\"\\n\")\n",
    "\n",
    "    \n",
    "def eval(alg,X,y):\n",
    "    alg.fit(X_train,y_train)\n",
    "    print(\"akurasi:\\n\",\n",
    "          accuracy_score(y,alg.predict(X)),\"\\n\")\n",
    "    print(\"confusion matirx test:\\n\",\n",
    "          confusion_matrix(y,alg.predict(X)),\"\\n\")\n",
    "    print(\"classification Report test:\\n\",\n",
    "          classification_report(y,alg.predict(X)),\"\\n\")"
   ]
  },
  {
   "cell_type": "markdown",
   "metadata": {},
   "source": [
    "\n"
   ]
  },
  {
   "cell_type": "markdown",
   "metadata": {},
   "source": [
    "________________"
   ]
  },
  {
   "cell_type": "code",
   "execution_count": 34,
   "metadata": {},
   "outputs": [],
   "source": [
    "exgb_tune = XGBClassifier(min_child_weight=1,\n",
    "                    max_depth=5,\n",
    "                    gamma=0.12,\n",
    "                    subsample=0.8,\n",
    "                    colsample_bytree=1,\n",
    "                    learning_rate=0.8,\n",
    "                    #n_estimators=1000,\n",
    "                    random_state=123)\n",
    "\n",
    "pipe_exgb_tune = Pipeline([('imb',RandomUnderSampler(random_state=123)),('clf',exgb_tune)])"
   ]
  },
  {
   "cell_type": "code",
   "execution_count": 20,
   "metadata": {},
   "outputs": [
    {
     "name": "stdout",
     "output_type": "stream",
     "text": [
      "akurasi cv : \n",
      " [ 0.8990228   0.89793702  0.8965798   0.90010858  0.89956569] \n",
      " 0.898642779587 \n",
      "\n",
      "recall cv : \n",
      " [ 0.0704698   0.06375839  0.05033557  0.09395973  0.04697987] \n",
      " 0.0651006711409 \n",
      "\n",
      "presisi cv : \n",
      " [ 0.18103448  0.1637931   0.13274336  0.22222222  0.14      ] \n",
      " 0.167958634252 \n",
      "\n",
      "f1 cv : \n",
      " [ 0.10144928  0.09178744  0.0729927   0.13207547  0.07035176] \n",
      " 0.0937313292396 \n",
      "\n"
     ]
    }
   ],
   "source": [
    "eval_cv(pipe_exgb_tune,X_train,y_train)"
   ]
  },
  {
   "cell_type": "code",
   "execution_count": 35,
   "metadata": {},
   "outputs": [
    {
     "name": "stdout",
     "output_type": "stream",
     "text": [
      "akurasi:\n",
      " 0.619506016466 \n",
      "\n",
      "confusion matirx test:\n",
      " [[4500 2757]\n",
      " [ 247  391]] \n",
      "\n",
      "classification Report test:\n",
      "              precision    recall  f1-score   support\n",
      "\n",
      "        0.0       0.95      0.62      0.75      7257\n",
      "        1.0       0.12      0.61      0.21       638\n",
      "\n",
      "avg / total       0.88      0.62      0.71      7895\n",
      " \n",
      "\n"
     ]
    }
   ],
   "source": [
    "eval(pipe_exgb_tune,X_test,y_test)"
   ]
  },
  {
   "cell_type": "markdown",
   "metadata": {},
   "source": [
    "# Tunning 1"
   ]
  },
  {
   "cell_type": "code",
   "execution_count": 67,
   "metadata": {},
   "outputs": [
    {
     "data": {
      "text/plain": [
       "GridSearchCV(cv=StratifiedKFold(n_splits=5, random_state=123, shuffle=False),\n",
       "       error_score='raise',\n",
       "       estimator=Pipeline(memory=None,\n",
       "     steps=[('rus', RandomUnderSampler(random_state=123, ratio='auto', replacement=False,\n",
       "          return_indices=False)), ('select', SelectFromModel(estimator=XGBClassifier(base_score=0.5, booster='gbtree', colsample_bylevel=1,\n",
       "       colsample_bytree=1, gamma=0.1, learning_rate=0.5, max_delta_step=0,\n",
       "...=123, reg_alpha=0, reg_lambda=1, scale_pos_weight=1,\n",
       "       seed=None, silent=True, subsample=0.8))]),\n",
       "       fit_params=None, iid=True, n_jobs=1,\n",
       "       param_grid={'clf__n_estimators': [20, 40, 60, 100, 120, 140]},\n",
       "       pre_dispatch='2*n_jobs', refit='geometric', return_train_score=True,\n",
       "       scoring=None, verbose=0)"
      ]
     },
     "execution_count": 67,
     "metadata": {},
     "output_type": "execute_result"
    }
   ],
   "source": [
    "rus = RandomUnderSampler(random_state=123)\n",
    "\n",
    "# model yang disiapkan\n",
    "exgb_tune = XGBClassifier(min_child_weight=1,\n",
    "                    max_depth=5,\n",
    "                    gamma=0.1,\n",
    "                    subsample=0.8,\n",
    "                    colsample_bytree=1,\n",
    "                    learning_rate=0.5,\n",
    "                    #n_estimators=1000,\n",
    "                    random_state=123)\n",
    "\n",
    "select = SelectFromModel(exgb_tune,threshold='median')\n",
    "pipe_exgb = Pipeline([('rus',rus),('select',select),('clf',exgb_tune)])\n",
    "\n",
    "# parameter yang disiapkan\n",
    "param_gb = {\n",
    "    'clf__n_estimators':[20,40,60,100,120,140]}\n",
    "\n",
    "skf = StratifiedKFold(n_splits=5,random_state=123)\n",
    "\n",
    "exgb_grid = GridSearchCV(pipe_exgb,\n",
    "                       param_grid=param_gb,\n",
    "                       # ukuran prediksi yang digunakan untuk tunning\n",
    "                       refit = 'geometric',\n",
    "                       # metode validasi silang\n",
    "                       cv=skf)\n",
    "\n",
    "exgb_grid.fit(X_train,y_train)"
   ]
  },
  {
   "cell_type": "code",
   "execution_count": 69,
   "metadata": {},
   "outputs": [
    {
     "name": "stdout",
     "output_type": "stream",
     "text": [
      "{'clf__n_estimators': 60}\n",
      "0.620901194354\n",
      "akurasi:\n",
      " 0.611019632679 \n",
      "\n",
      "confusion matirx test:\n",
      " [[4399 2858]\n",
      " [ 213  425]] \n",
      "\n",
      "classification Report test:\n",
      "              precision    recall  f1-score   support\n",
      "\n",
      "        0.0       0.95      0.61      0.74      7257\n",
      "        1.0       0.13      0.67      0.22       638\n",
      "\n",
      "avg / total       0.89      0.61      0.70      7895\n",
      " \n",
      "\n"
     ]
    }
   ],
   "source": [
    "print(exgb_grid.best_params_)\n",
    "print(exgb_grid.best_score_)\n",
    "eval(exgb_grid.best_estimator_,X_test,y_test)"
   ]
  },
  {
   "cell_type": "markdown",
   "metadata": {},
   "source": [
    "# Tunning 2"
   ]
  },
  {
   "cell_type": "code",
   "execution_count": 73,
   "metadata": {},
   "outputs": [
    {
     "data": {
      "text/plain": [
       "GridSearchCV(cv=StratifiedKFold(n_splits=5, random_state=123, shuffle=False),\n",
       "       error_score='raise',\n",
       "       estimator=Pipeline(memory=None,\n",
       "     steps=[('rus', RandomUnderSampler(random_state=123, ratio='auto', replacement=False,\n",
       "          return_indices=False)), ('select', SelectFromModel(estimator=XGBClassifier(base_score=0.5, booster='gbtree', colsample_bylevel=1,\n",
       "       colsample_bytree=1, gamma=0.1, learning_rate=0.5, max_delta_step=0,\n",
       "...=123, reg_alpha=0, reg_lambda=1, scale_pos_weight=1,\n",
       "       seed=None, silent=True, subsample=0.8))]),\n",
       "       fit_params=None, iid=True, n_jobs=1,\n",
       "       param_grid={'clf__max_depth': range(3, 10, 2), 'clf__min_child_weight': range(1, 6, 2)},\n",
       "       pre_dispatch='2*n_jobs', refit='geometric', return_train_score=True,\n",
       "       scoring=None, verbose=0)"
      ]
     },
     "execution_count": 73,
     "metadata": {},
     "output_type": "execute_result"
    }
   ],
   "source": [
    "rus = RandomUnderSampler(random_state=123)\n",
    "\n",
    "# model yang disiapkan\n",
    "exgb_tune2 = XGBClassifier(#min_child_weight=1,\n",
    "                    #max_depth=5,\n",
    "                    gamma=0.1,\n",
    "                    subsample=0.8,\n",
    "                    colsample_bytree=1,\n",
    "                    learning_rate=0.5,\n",
    "                    n_estimators=60,\n",
    "                    random_state=123)\n",
    "\n",
    "select = SelectFromModel(exgb_tune2,threshold='median')\n",
    "pipe_exgb2 = Pipeline([('rus',rus),('select',select),('clf',exgb_tune2)])\n",
    "\n",
    "# parameter yang disiapkan\n",
    "param_gb2 = {\n",
    "    'clf__max_depth':range(3,10,2),\n",
    "    'clf__min_child_weight':range(1,6,2)\n",
    "}\n",
    "\n",
    "skf = StratifiedKFold(n_splits=5,random_state=123)\n",
    "\n",
    "exgb_grid2 = GridSearchCV(pipe_exgb2,\n",
    "                       param_grid=param_gb2,\n",
    "                       # ukuran prediksi yang digunakan untuk tunning\n",
    "                       refit = 'geometric',\n",
    "                       # metode validasi silang\n",
    "                       cv=skf)\n",
    "\n",
    "exgb_grid2.fit(X_train,y_train)"
   ]
  },
  {
   "cell_type": "code",
   "execution_count": 74,
   "metadata": {},
   "outputs": [
    {
     "name": "stdout",
     "output_type": "stream",
     "text": [
      "{'clf__max_depth': 9, 'clf__min_child_weight': 5}\n",
      "0.62671009772\n",
      "akurasi:\n",
      " 0.621405953135 \n",
      "\n",
      "confusion matirx test:\n",
      " [[4471 2786]\n",
      " [ 203  435]] \n",
      "\n",
      "classification Report test:\n",
      "              precision    recall  f1-score   support\n",
      "\n",
      "        0.0       0.96      0.62      0.75      7257\n",
      "        1.0       0.14      0.68      0.23       638\n",
      "\n",
      "avg / total       0.89      0.62      0.71      7895\n",
      " \n",
      "\n"
     ]
    }
   ],
   "source": [
    "print(exgb_grid2.best_params_)\n",
    "print(exgb_grid2.best_score_)\n",
    "eval(exgb_grid2.best_estimator_,X_test,y_test)"
   ]
  },
  {
   "cell_type": "markdown",
   "metadata": {},
   "source": [
    "# Tunning 3"
   ]
  },
  {
   "cell_type": "code",
   "execution_count": 75,
   "metadata": {},
   "outputs": [
    {
     "data": {
      "text/plain": [
       "GridSearchCV(cv=StratifiedKFold(n_splits=5, random_state=123, shuffle=False),\n",
       "       error_score='raise',\n",
       "       estimator=Pipeline(memory=None,\n",
       "     steps=[('rus', RandomUnderSampler(random_state=123, ratio='auto', replacement=False,\n",
       "          return_indices=False)), ('select', SelectFromModel(estimator=XGBClassifier(base_score=0.5, booster='gbtree', colsample_bylevel=1,\n",
       "       colsample_bytree=1, gamma=0.1, learning_rate=0.5, max_delta_step=0,\n",
       "...=123, reg_alpha=0, reg_lambda=1, scale_pos_weight=1,\n",
       "       seed=None, silent=True, subsample=0.8))]),\n",
       "       fit_params=None, iid=True, n_jobs=1,\n",
       "       param_grid={'clf__max_depth': [8, 9, 10], 'clf__min_child_weight': [4, 5, 6]},\n",
       "       pre_dispatch='2*n_jobs', refit='geometric', return_train_score=True,\n",
       "       scoring=None, verbose=0)"
      ]
     },
     "execution_count": 75,
     "metadata": {},
     "output_type": "execute_result"
    }
   ],
   "source": [
    "rus = RandomUnderSampler(random_state=123)\n",
    "\n",
    "# model yang disiapkan\n",
    "exgb_tune3 = XGBClassifier(#min_child_weight=1,\n",
    "                    #max_depth=5,\n",
    "                    gamma=0.1,\n",
    "                    subsample=0.8,\n",
    "                    colsample_bytree=1,\n",
    "                    learning_rate=0.5,\n",
    "                    n_estimators=60,\n",
    "                    random_state=123)\n",
    "\n",
    "select = SelectFromModel(exgb_tune3,threshold='median')\n",
    "pipe_exgb3 = Pipeline([('rus',rus),('select',select),('clf',exgb_tune3)])\n",
    "\n",
    "# parameter yang disiapkan\n",
    "param_gb3 = {\n",
    "    'clf__max_depth':[8,9,10],\n",
    "    'clf__min_child_weight':[4,5,6]\n",
    "}\n",
    "\n",
    "skf = StratifiedKFold(n_splits=5,random_state=123)\n",
    "\n",
    "exgb_grid3 = GridSearchCV(pipe_exgb3,\n",
    "                       param_grid=param_gb3,\n",
    "                       # ukuran prediksi yang digunakan untuk tunning\n",
    "                       refit = 'geometric',\n",
    "                       # metode validasi silang\n",
    "                       cv=skf)\n",
    "\n",
    "exgb_grid3.fit(X_train,y_train)"
   ]
  },
  {
   "cell_type": "code",
   "execution_count": 76,
   "metadata": {},
   "outputs": [
    {
     "name": "stdout",
     "output_type": "stream",
     "text": [
      "{'clf__max_depth': 10, 'clf__min_child_weight': 5}\n",
      "0.628555917481\n",
      "akurasi:\n",
      " 0.623559214693 \n",
      "\n",
      "confusion matirx test:\n",
      " [[4497 2760]\n",
      " [ 212  426]] \n",
      "\n",
      "classification Report test:\n",
      "              precision    recall  f1-score   support\n",
      "\n",
      "        0.0       0.95      0.62      0.75      7257\n",
      "        1.0       0.13      0.67      0.22       638\n",
      "\n",
      "avg / total       0.89      0.62      0.71      7895\n",
      " \n",
      "\n"
     ]
    }
   ],
   "source": [
    "print(exgb_grid3.best_params_)\n",
    "print(exgb_grid3.best_score_)\n",
    "eval(exgb_grid3.best_estimator_,X_test,y_test)"
   ]
  },
  {
   "cell_type": "markdown",
   "metadata": {},
   "source": [
    "# Tunning 4"
   ]
  },
  {
   "cell_type": "code",
   "execution_count": 77,
   "metadata": {},
   "outputs": [
    {
     "data": {
      "text/plain": [
       "GridSearchCV(cv=StratifiedKFold(n_splits=5, random_state=123, shuffle=False),\n",
       "       error_score='raise',\n",
       "       estimator=Pipeline(memory=None,\n",
       "     steps=[('rus', RandomUnderSampler(random_state=123, ratio='auto', replacement=False,\n",
       "          return_indices=False)), ('select', SelectFromModel(estimator=XGBClassifier(base_score=0.5, booster='gbtree', colsample_bylevel=1,\n",
       "       colsample_bytree=1, gamma=0, learning_rate=0.5, max_delta_step=0,\n",
       "  ...=123, reg_alpha=0, reg_lambda=1, scale_pos_weight=1,\n",
       "       seed=None, silent=True, subsample=0.8))]),\n",
       "       fit_params=None, iid=True, n_jobs=1,\n",
       "       param_grid={'clf__gamma': [8.5, 0.6, 0.7, 0.8, 0.9, 1]},\n",
       "       pre_dispatch='2*n_jobs', refit='geometric', return_train_score=True,\n",
       "       scoring=None, verbose=0)"
      ]
     },
     "execution_count": 77,
     "metadata": {},
     "output_type": "execute_result"
    }
   ],
   "source": [
    "rus = RandomUnderSampler(random_state=123)\n",
    "\n",
    "# model yang disiapkan\n",
    "exgb_tune4 = XGBClassifier(min_child_weight=5,\n",
    "                    max_depth=10,\n",
    "                    #gamma=0.1,\n",
    "                    subsample=0.8,\n",
    "                    colsample_bytree=1,\n",
    "                    learning_rate=0.5,\n",
    "                    n_estimators=60,\n",
    "                    random_state=123)\n",
    "\n",
    "select = SelectFromModel(exgb_tune4,threshold='median')\n",
    "pipe_exgb4 = Pipeline([('rus',rus),('select',select),('clf',exgb_tune4)])\n",
    "\n",
    "# parameter yang disiapkan\n",
    "param_gb4 = {\n",
    "    'clf__gamma':[8.5,0.6,0.7,0.8,0.9,1]\n",
    "}\n",
    "\n",
    "skf = StratifiedKFold(n_splits=5,random_state=123)\n",
    "\n",
    "exgb_grid4 = GridSearchCV(pipe_exgb4,\n",
    "                       param_grid=param_gb4,\n",
    "                       # ukuran prediksi yang digunakan untuk tunning\n",
    "                       refit = 'geometric',\n",
    "                       # metode validasi silang\n",
    "                       cv=skf)\n",
    "\n",
    "exgb_grid4.fit(X_train,y_train)"
   ]
  },
  {
   "cell_type": "code",
   "execution_count": 78,
   "metadata": {},
   "outputs": [
    {
     "name": "stdout",
     "output_type": "stream",
     "text": [
      "{'clf__gamma': 0.7}\n",
      "0.628501628664\n",
      "akurasi:\n",
      " 0.617606079797 \n",
      "\n",
      "confusion matirx test:\n",
      " [[4460 2797]\n",
      " [ 222  416]] \n",
      "\n",
      "classification Report test:\n",
      "              precision    recall  f1-score   support\n",
      "\n",
      "        0.0       0.95      0.61      0.75      7257\n",
      "        1.0       0.13      0.65      0.22       638\n",
      "\n",
      "avg / total       0.89      0.62      0.70      7895\n",
      " \n",
      "\n"
     ]
    }
   ],
   "source": [
    "print(exgb_grid4.best_params_)\n",
    "print(exgb_grid4.best_score_)\n",
    "eval(exgb_grid4.best_estimator_,X_test,y_test)"
   ]
  },
  {
   "cell_type": "markdown",
   "metadata": {},
   "source": [
    "# Tunning 5"
   ]
  },
  {
   "cell_type": "code",
   "execution_count": 81,
   "metadata": {},
   "outputs": [
    {
     "data": {
      "text/plain": [
       "GridSearchCV(cv=StratifiedKFold(n_splits=5, random_state=123, shuffle=False),\n",
       "       error_score='raise',\n",
       "       estimator=Pipeline(memory=None,\n",
       "     steps=[('rus', RandomUnderSampler(random_state=123, ratio='auto', replacement=False,\n",
       "          return_indices=False)), ('select', SelectFromModel(estimator=XGBClassifier(base_score=0.5, booster='gbtree', colsample_bylevel=1,\n",
       "       colsample_bytree=1, gamma=0.7, learning_rate=0.5, max_delta_step=0,\n",
       "...te=123, reg_alpha=0, reg_lambda=1, scale_pos_weight=1,\n",
       "       seed=None, silent=True, subsample=1))]),\n",
       "       fit_params=None, iid=True, n_jobs=1,\n",
       "       param_grid={'clf__subsample': [0.6, 0.7, 0.8, 0.9], 'clf__colsample_bytree': [0.6, 0.7, 0.8, 0.9, 1]},\n",
       "       pre_dispatch='2*n_jobs', refit='geometric', return_train_score=True,\n",
       "       scoring=None, verbose=0)"
      ]
     },
     "execution_count": 81,
     "metadata": {},
     "output_type": "execute_result"
    }
   ],
   "source": [
    "rus = RandomUnderSampler(random_state=123)\n",
    "\n",
    "# model yang disiapkan\n",
    "exgb_tune5 = XGBClassifier(min_child_weight=5,\n",
    "                    max_depth=10,\n",
    "                    gamma=0.7,\n",
    "                    #subsample=0.8,\n",
    "                    #colsample_bytree=1,\n",
    "                    learning_rate=0.5,\n",
    "                    n_estimators=60,\n",
    "                    random_state=123)\n",
    "\n",
    "select = SelectFromModel(exgb_tune5,threshold='median')\n",
    "pipe_exgb5 = Pipeline([('rus',rus),('select',select),('clf',exgb_tune5)])\n",
    "\n",
    "# parameter yang disiapkan\n",
    "param_gb5 = {\n",
    "      'clf__subsample':[i/10.0 for i in range(6,10)],\n",
    "      'clf__colsample_bytree':[i/10 for i in range(6,10)]+[1]\n",
    "}\n",
    "\n",
    "skf = StratifiedKFold(n_splits=5,random_state=123)\n",
    "\n",
    "exgb_grid5 = GridSearchCV(pipe_exgb5,\n",
    "                       param_grid=param_gb5,\n",
    "                       # ukuran prediksi yang digunakan untuk tunning\n",
    "                       refit = 'geometric',\n",
    "                       # metode validasi silang\n",
    "                       cv=skf)\n",
    "\n",
    "exgb_grid5.fit(X_train,y_train)"
   ]
  },
  {
   "cell_type": "code",
   "execution_count": 82,
   "metadata": {},
   "outputs": [
    {
     "name": "stdout",
     "output_type": "stream",
     "text": [
      "{'clf__colsample_bytree': 0.6, 'clf__subsample': 0.8}\n",
      "0.629533116178\n",
      "akurasi:\n",
      " 0.614312856238 \n",
      "\n",
      "confusion matirx test:\n",
      " [[4467 2790]\n",
      " [ 255  383]] \n",
      "\n",
      "classification Report test:\n",
      "              precision    recall  f1-score   support\n",
      "\n",
      "        0.0       0.95      0.62      0.75      7257\n",
      "        1.0       0.12      0.60      0.20       638\n",
      "\n",
      "avg / total       0.88      0.61      0.70      7895\n",
      " \n",
      "\n"
     ]
    }
   ],
   "source": [
    "print(exgb_grid5.best_params_)\n",
    "print(exgb_grid5.best_score_)\n",
    "eval(exgb_grid5.best_estimator_,X_test,y_test)"
   ]
  },
  {
   "cell_type": "markdown",
   "metadata": {},
   "source": [
    "# Tunning 6"
   ]
  },
  {
   "cell_type": "code",
   "execution_count": 83,
   "metadata": {},
   "outputs": [
    {
     "data": {
      "text/plain": [
       "GridSearchCV(cv=StratifiedKFold(n_splits=5, random_state=123, shuffle=False),\n",
       "       error_score='raise',\n",
       "       estimator=Pipeline(memory=None,\n",
       "     steps=[('rus', RandomUnderSampler(random_state=123, ratio='auto', replacement=False,\n",
       "          return_indices=False)), ('select', SelectFromModel(estimator=XGBClassifier(base_score=0.5, booster='gbtree', colsample_bylevel=1,\n",
       "       colsample_bytree=0.6, gamma=0.7, learning_rate=0.5,\n",
       "       max_delta...eg_alpha=0,\n",
       "       reg_lambda=1, scale_pos_weight=1, seed=None, silent=True,\n",
       "       subsample=0.8))]),\n",
       "       fit_params=None, iid=True, n_jobs=1,\n",
       "       param_grid={'clf__reg_alpha': [0.01, 0.1, 0, 1, 10], 'clf__reg_lambda': [0.01, 0.1, 0, 1, 10]},\n",
       "       pre_dispatch='2*n_jobs', refit='geometric', return_train_score=True,\n",
       "       scoring=None, verbose=0)"
      ]
     },
     "execution_count": 83,
     "metadata": {},
     "output_type": "execute_result"
    }
   ],
   "source": [
    "rus = RandomUnderSampler(random_state=123)\n",
    "\n",
    "# model yang disiapkan\n",
    "exgb_tune6 = XGBClassifier(min_child_weight=5,\n",
    "                    max_depth=10,\n",
    "                    gamma=0.7,\n",
    "                    subsample=0.8,\n",
    "                    colsample_bytree=0.6,\n",
    "                    learning_rate=0.5,\n",
    "                    n_estimators=60,\n",
    "                    random_state=123)\n",
    "\n",
    "select = SelectFromModel(exgb_tune6,threshold='median')\n",
    "pipe_exgb6 = Pipeline([('rus',rus),('select',select),('clf',exgb_tune6)])\n",
    "\n",
    "# parameter yang disiapkan\n",
    "param_gb6 = {\n",
    "    'clf__reg_alpha':[0.01,0.1,0,1,10],\n",
    "    'clf__reg_lambda':[0.01,0.1,0,1,10]}\n",
    "\n",
    "skf = StratifiedKFold(n_splits=5,random_state=123)\n",
    "\n",
    "exgb_grid6 = GridSearchCV(pipe_exgb6,\n",
    "                       param_grid=param_gb6,\n",
    "                       # ukuran prediksi yang digunakan untuk tunning\n",
    "                       refit = 'geometric',\n",
    "                       # metode validasi silang\n",
    "                       cv=skf)\n",
    "\n",
    "exgb_grid6.fit(X_train,y_train)"
   ]
  },
  {
   "cell_type": "code",
   "execution_count": 84,
   "metadata": {},
   "outputs": [
    {
     "name": "stdout",
     "output_type": "stream",
     "text": [
      "{'clf__reg_alpha': 1, 'clf__reg_lambda': 10}\n",
      "0.631541802389\n",
      "akurasi:\n",
      " 0.62457251425 \n",
      "\n",
      "confusion matirx test:\n",
      " [[4511 2746]\n",
      " [ 218  420]] \n",
      "\n",
      "classification Report test:\n",
      "              precision    recall  f1-score   support\n",
      "\n",
      "        0.0       0.95      0.62      0.75      7257\n",
      "        1.0       0.13      0.66      0.22       638\n",
      "\n",
      "avg / total       0.89      0.62      0.71      7895\n",
      " \n",
      "\n"
     ]
    }
   ],
   "source": [
    "print(exgb_grid6.best_params_)\n",
    "print(exgb_grid6.best_score_)\n",
    "eval(exgb_grid6.best_estimator_,X_test,y_test)"
   ]
  },
  {
   "cell_type": "markdown",
   "metadata": {},
   "source": [
    "# Tunning 7 : Robustnes"
   ]
  },
  {
   "cell_type": "code",
   "execution_count": 91,
   "metadata": {},
   "outputs": [
    {
     "data": {
      "text/plain": [
       "GridSearchCV(cv=StratifiedKFold(n_splits=5, random_state=123, shuffle=False),\n",
       "       error_score='raise',\n",
       "       estimator=Pipeline(memory=None,\n",
       "     steps=[('rus', RandomUnderSampler(random_state=123, ratio='auto', replacement=False,\n",
       "          return_indices=False)), ('select', SelectFromModel(estimator=XGBClassifier(base_score=0.5, booster='gbtree', colsample_bylevel=1,\n",
       "       colsample_bytree=0.6, gamma=0.7, learning_rate=0.1,\n",
       "       max_delta...g_alpha=1,\n",
       "       reg_lambda=10, scale_pos_weight=1, seed=None, silent=True,\n",
       "       subsample=0.8))]),\n",
       "       fit_params=None, iid=True, n_jobs=1,\n",
       "       param_grid=[{'clf__learning_rate': [0.5], 'clf__n_estimators': [60]}, {'clf__learning_rate': [0.25], 'clf__n_estimators': [120]}, {'clf__learning_rate': [0.2], 'clf__n_estimators': [150]}, {'clf__learning_rate': [0.1], 'clf__n_estimators': [300]}, {'clf__learning_rate': [0.05], 'clf__n_estimators': [600]}],\n",
       "       pre_dispatch='2*n_jobs', refit='geometric', return_train_score=True,\n",
       "       scoring=None, verbose=0)"
      ]
     },
     "execution_count": 91,
     "metadata": {},
     "output_type": "execute_result"
    }
   ],
   "source": [
    "rus = RandomUnderSampler(random_state=123)\n",
    "\n",
    "# model yang disiapkan\n",
    "exgb_tune7 = XGBClassifier(min_child_weight=5,\n",
    "                    max_depth=10,\n",
    "                    gamma=0.7,\n",
    "                    subsample=0.8,\n",
    "                    colsample_bytree=0.6,\n",
    "                    #learning_rate=0.5,\n",
    "                    #n_estimators=60,\n",
    "                    reg_alpha=1,\n",
    "                    reg_lambda=10,\n",
    "                    random_state=123)\n",
    "\n",
    "select = SelectFromModel(exgb_tune7,threshold='median')\n",
    "pipe_exgb7 = Pipeline([('rus',rus),('select',select),('clf',exgb_tune7)])\n",
    "\n",
    "# parameter yang disiapkan\n",
    "param_gb7 = [\n",
    "    {'clf__learning_rate':[0.5],'clf__n_estimators':[60]},\n",
    "    {'clf__learning_rate':[0.25],'clf__n_estimators':[120]},\n",
    "    {'clf__learning_rate':[0.2],'clf__n_estimators':[150]},\n",
    "    {'clf__learning_rate':[0.1],'clf__n_estimators':[300]},\n",
    "    {'clf__learning_rate':[0.05],'clf__n_estimators':[600]}\n",
    "]\n",
    "\n",
    "\n",
    "skf = StratifiedKFold(n_splits=5,random_state=123)\n",
    "\n",
    "exgb_grid7 = GridSearchCV(pipe_exgb7,\n",
    "                       param_grid=param_gb7,\n",
    "                       # ukuran prediksi yang digunakan untuk tunning\n",
    "                       refit = 'geometric',\n",
    "                       # metode validasi silang\n",
    "                       cv=skf)\n",
    "\n",
    "exgb_grid7.fit(X_train,y_train)"
   ]
  },
  {
   "cell_type": "code",
   "execution_count": 92,
   "metadata": {},
   "outputs": [
    {
     "name": "stdout",
     "output_type": "stream",
     "text": [
      "{'clf__learning_rate': 0.5, 'clf__n_estimators': 60}\n",
      "0.630347448426\n",
      "akurasi:\n",
      " 0.621532615579 \n",
      "\n",
      "confusion matirx test:\n",
      " [[4500 2757]\n",
      " [ 231  407]] \n",
      "\n",
      "classification Report test:\n",
      "              precision    recall  f1-score   support\n",
      "\n",
      "        0.0       0.95      0.62      0.75      7257\n",
      "        1.0       0.13      0.64      0.21       638\n",
      "\n",
      "avg / total       0.88      0.62      0.71      7895\n",
      " \n",
      "\n"
     ]
    }
   ],
   "source": [
    "print(exgb_grid7.best_params_)\n",
    "print(exgb_grid7.best_score_)\n",
    "eval(exgb_grid7.best_estimator_,X_test,y_test)"
   ]
  },
  {
   "cell_type": "markdown",
   "metadata": {},
   "source": [
    "# INTERACTION "
   ]
  },
  {
   "cell_type": "code",
   "execution_count": 160,
   "metadata": {
    "collapsed": true
   },
   "outputs": [],
   "source": [
    "rus = RandomUnderSampler(random_state=123)\n",
    "\n",
    "# model yang disiapkan\n",
    "exgb_tune7 = XGBClassifier()\n",
    "\n",
    "select = SelectFromModel(exgb_tune7,threshold='median')\n",
    "pipe_exgb7 = Pipeline([('rus',rus),('clf',exgb_tune7)])"
   ]
  },
  {
   "cell_type": "code",
   "execution_count": 161,
   "metadata": {},
   "outputs": [
    {
     "data": {
      "text/plain": [
       "Pipeline(memory=None,\n",
       "     steps=[('rus', RandomUnderSampler(random_state=123, ratio='auto', replacement=False,\n",
       "          return_indices=False)), ('clf', XGBClassifier(base_score=0.5, booster='gbtree', colsample_bylevel=1,\n",
       "       colsample_bytree=1, gamma=0, learning_rate=0.1, max_delta_step=0,\n",
       "       max_depth=3, min_child_w...\n",
       "       reg_alpha=0, reg_lambda=1, scale_pos_weight=1, seed=None,\n",
       "       silent=True, subsample=1))])"
      ]
     },
     "execution_count": 161,
     "metadata": {},
     "output_type": "execute_result"
    }
   ],
   "source": [
    "pipe_exgb7.fit(X,y)"
   ]
  },
  {
   "cell_type": "code",
   "execution_count": 156,
   "metadata": {},
   "outputs": [],
   "source": [
    "y_pred = pipe_exgb7.predict(np.asmatrix(X_valid))"
   ]
  },
  {
   "cell_type": "code",
   "execution_count": 154,
   "metadata": {},
   "outputs": [
    {
     "data": {
      "text/plain": [
       "Pipeline(memory=None,\n",
       "     steps=[('rus', RandomUnderSampler(random_state=123, ratio='auto', replacement=False,\n",
       "          return_indices=False)), ('clf', XGBClassifier(base_score=0.5, booster='gbtree', colsample_bylevel=1,\n",
       "       colsample_bytree=0.6, gamma=0.7, learning_rate=0.1,\n",
       "       max_delta_step=0, max_depth=10, min_ch...g_alpha=1,\n",
       "       reg_lambda=10, scale_pos_weight=1, seed=None, silent=True,\n",
       "       subsample=0.8))])"
      ]
     },
     "execution_count": 154,
     "metadata": {},
     "output_type": "execute_result"
    }
   ],
   "source": [
    "pipe_exgb7.fit(X,y)"
   ]
  },
  {
   "cell_type": "code",
   "execution_count": 157,
   "metadata": {},
   "outputs": [
    {
     "data": {
      "text/plain": [
       "array([ 0.53050768,  0.10393889,  0.72848952, ...,  0.61033028,\n",
       "        0.5219965 ,  0.61449248], dtype=float32)"
      ]
     },
     "execution_count": 157,
     "metadata": {},
     "output_type": "execute_result"
    }
   ],
   "source": [
    "y_prob = pipe_exgb7.predict_proba(np.asmatrix(X_valid))\n",
    "y_prob[:,1]"
   ]
  },
  {
   "cell_type": "code",
   "execution_count": 159,
   "metadata": {},
   "outputs": [],
   "source": [
    "submit={'DLQ_FLG':y_pred,'model_score':y_prob[:,1]}\n",
    "submit=pd.DataFrame(submit)\n",
    "submit.to_csv('Decision Tree2.csv')"
   ]
  },
  {
   "cell_type": "code",
   "execution_count": null,
   "metadata": {},
   "outputs": [],
   "source": []
  },
  {
   "cell_type": "markdown",
   "metadata": {},
   "source": [
    "# PLOTTING TREE"
   ]
  },
  {
   "cell_type": "code",
   "execution_count": 163,
   "metadata": {},
   "outputs": [],
   "source": [
    "y_train_pred=pipe_exgb7.predict(np.asmatrix(X))"
   ]
  },
  {
   "cell_type": "code",
   "execution_count": 164,
   "metadata": {
    "collapsed": true
   },
   "outputs": [],
   "source": [
    "from sklearn.tree import DecisionTreeClassifier"
   ]
  },
  {
   "cell_type": "code",
   "execution_count": 178,
   "metadata": {},
   "outputs": [
    {
     "data": {
      "text/plain": [
       "DecisionTreeClassifier(class_weight=None, criterion='gini', max_depth=3,\n",
       "            max_features=None, max_leaf_nodes=None,\n",
       "            min_impurity_decrease=0.0, min_impurity_split=None,\n",
       "            min_samples_leaf=1, min_samples_split=2,\n",
       "            min_weight_fraction_leaf=0.0, presort=False, random_state=None,\n",
       "            splitter='best')"
      ]
     },
     "execution_count": 178,
     "metadata": {},
     "output_type": "execute_result"
    }
   ],
   "source": [
    "dtc = DecisionTreeClassifier(max_depth=3)\n",
    "dtc.fit(X,y_train_pred)"
   ]
  },
  {
   "cell_type": "code",
   "execution_count": 179,
   "metadata": {
    "collapsed": true
   },
   "outputs": [],
   "source": [
    "import graphviz\n",
    "from sklearn.externals.six import StringIO  \n",
    "from IPython.display import Image  \n",
    "from sklearn.tree import export_graphviz\n",
    "import pydotplus"
   ]
  },
  {
   "cell_type": "code",
   "execution_count": 192,
   "metadata": {},
   "outputs": [
    {
     "data": {
      "image/svg+xml": [
       "<?xml version=\"1.0\" encoding=\"UTF-8\" standalone=\"no\"?>\r\n",
       "<!DOCTYPE svg PUBLIC \"-//W3C//DTD SVG 1.1//EN\"\r\n",
       " \"http://www.w3.org/Graphics/SVG/1.1/DTD/svg11.dtd\">\r\n",
       "<!-- Generated by graphviz version 2.38.0 (20140413.2041)\r\n",
       " -->\r\n",
       "<!-- Title: Tree Pages: 1 -->\r\n",
       "<svg width=\"1171pt\" height=\"373pt\"\r\n",
       " viewBox=\"0.00 0.00 1171.00 373.00\" xmlns=\"http://www.w3.org/2000/svg\" xmlns:xlink=\"http://www.w3.org/1999/xlink\">\r\n",
       "<g id=\"graph0\" class=\"graph\" transform=\"scale(1 1) rotate(0) translate(4 369)\">\r\n",
       "<title>Tree</title>\r\n",
       "<polygon fill=\"white\" stroke=\"none\" points=\"-4,4 -4,-369 1167,-369 1167,4 -4,4\"/>\r\n",
       "<!-- 0 -->\r\n",
       "<g id=\"node1\" class=\"node\"><title>0</title>\r\n",
       "<polygon fill=\"#e58139\" fill-opacity=\"0.019608\" stroke=\"black\" points=\"658,-365 519,-365 519,-297 658,-297 658,-365\"/>\r\n",
       "<text text-anchor=\"middle\" x=\"588.5\" y=\"-349.8\" font-family=\"Times New Roman,serif\" font-size=\"14.00\">CC_CNT &lt;= 0.5</text>\r\n",
       "<text text-anchor=\"middle\" x=\"588.5\" y=\"-334.8\" font-family=\"Times New Roman,serif\" font-size=\"14.00\">samples = 100.0%</text>\r\n",
       "<text text-anchor=\"middle\" x=\"588.5\" y=\"-319.8\" font-family=\"Times New Roman,serif\" font-size=\"14.00\">value = [0.505, 0.495]</text>\r\n",
       "<text text-anchor=\"middle\" x=\"588.5\" y=\"-304.8\" font-family=\"Times New Roman,serif\" font-size=\"14.00\">class = N</text>\r\n",
       "</g>\r\n",
       "<!-- 1 -->\r\n",
       "<g id=\"node2\" class=\"node\"><title>1</title>\r\n",
       "<polygon fill=\"#399de5\" fill-opacity=\"0.690196\" stroke=\"black\" points=\"541,-261 388,-261 388,-193 541,-193 541,-261\"/>\r\n",
       "<text text-anchor=\"middle\" x=\"464.5\" y=\"-245.8\" font-family=\"Times New Roman,serif\" font-size=\"14.00\">INS_LIFE_CNT &lt;= 0.5</text>\r\n",
       "<text text-anchor=\"middle\" x=\"464.5\" y=\"-230.8\" font-family=\"Times New Roman,serif\" font-size=\"14.00\">samples = 64.8%</text>\r\n",
       "<text text-anchor=\"middle\" x=\"464.5\" y=\"-215.8\" font-family=\"Times New Roman,serif\" font-size=\"14.00\">value = [0.237, 0.763]</text>\r\n",
       "<text text-anchor=\"middle\" x=\"464.5\" y=\"-200.8\" font-family=\"Times New Roman,serif\" font-size=\"14.00\">class = Y</text>\r\n",
       "</g>\r\n",
       "<!-- 0&#45;&gt;1 -->\r\n",
       "<g id=\"edge1\" class=\"edge\"><title>0&#45;&gt;1</title>\r\n",
       "<path fill=\"none\" stroke=\"black\" d=\"M548.241,-296.884C536.979,-287.62 524.622,-277.455 512.94,-267.845\"/>\r\n",
       "<polygon fill=\"black\" stroke=\"black\" points=\"514.928,-264.949 504.982,-261.299 510.481,-270.355 514.928,-264.949\"/>\r\n",
       "<text text-anchor=\"middle\" x=\"507.404\" y=\"-282.482\" font-family=\"Times New Roman,serif\" font-size=\"14.00\">True</text>\r\n",
       "</g>\r\n",
       "<!-- 8 -->\r\n",
       "<g id=\"node9\" class=\"node\"><title>8</title>\r\n",
       "<polygon fill=\"#e58139\" stroke=\"black\" points=\"833.5,-261 591.5,-261 591.5,-193 833.5,-193 833.5,-261\"/>\r\n",
       "<text text-anchor=\"middle\" x=\"712.5\" y=\"-245.8\" font-family=\"Times New Roman,serif\" font-size=\"14.00\">MARITAL_STATUS_Divorced &lt;= 0.5</text>\r\n",
       "<text text-anchor=\"middle\" x=\"712.5\" y=\"-230.8\" font-family=\"Times New Roman,serif\" font-size=\"14.00\">samples = 35.2%</text>\r\n",
       "<text text-anchor=\"middle\" x=\"712.5\" y=\"-215.8\" font-family=\"Times New Roman,serif\" font-size=\"14.00\">value = [0.999, 0.001]</text>\r\n",
       "<text text-anchor=\"middle\" x=\"712.5\" y=\"-200.8\" font-family=\"Times New Roman,serif\" font-size=\"14.00\">class = N</text>\r\n",
       "</g>\r\n",
       "<!-- 0&#45;&gt;8 -->\r\n",
       "<g id=\"edge8\" class=\"edge\"><title>0&#45;&gt;8</title>\r\n",
       "<path fill=\"none\" stroke=\"black\" d=\"M628.759,-296.884C640.021,-287.62 652.378,-277.455 664.06,-267.845\"/>\r\n",
       "<polygon fill=\"black\" stroke=\"black\" points=\"666.519,-270.355 672.018,-261.299 662.072,-264.949 666.519,-270.355\"/>\r\n",
       "<text text-anchor=\"middle\" x=\"669.596\" y=\"-282.482\" font-family=\"Times New Roman,serif\" font-size=\"14.00\">False</text>\r\n",
       "</g>\r\n",
       "<!-- 2 -->\r\n",
       "<g id=\"node3\" class=\"node\"><title>2</title>\r\n",
       "<polygon fill=\"#399de5\" fill-opacity=\"0.764706\" stroke=\"black\" points=\"325.5,-157 125.5,-157 125.5,-89 325.5,-89 325.5,-157\"/>\r\n",
       "<text text-anchor=\"middle\" x=\"225.5\" y=\"-141.8\" font-family=\"Times New Roman,serif\" font-size=\"14.00\">CNT_MOBILE_PHONE &lt;= 0.5</text>\r\n",
       "<text text-anchor=\"middle\" x=\"225.5\" y=\"-126.8\" font-family=\"Times New Roman,serif\" font-size=\"14.00\">samples = 60.9%</text>\r\n",
       "<text text-anchor=\"middle\" x=\"225.5\" y=\"-111.8\" font-family=\"Times New Roman,serif\" font-size=\"14.00\">value = [0.19, 0.81]</text>\r\n",
       "<text text-anchor=\"middle\" x=\"225.5\" y=\"-96.8\" font-family=\"Times New Roman,serif\" font-size=\"14.00\">class = Y</text>\r\n",
       "</g>\r\n",
       "<!-- 1&#45;&gt;2 -->\r\n",
       "<g id=\"edge2\" class=\"edge\"><title>1&#45;&gt;2</title>\r\n",
       "<path fill=\"none\" stroke=\"black\" d=\"M387.893,-193.306C363.8,-183.023 337.025,-171.597 312.279,-161.035\"/>\r\n",
       "<polygon fill=\"black\" stroke=\"black\" points=\"313.475,-157.74 302.904,-157.034 310.727,-164.179 313.475,-157.74\"/>\r\n",
       "</g>\r\n",
       "<!-- 5 -->\r\n",
       "<g id=\"node6\" class=\"node\"><title>5</title>\r\n",
       "<polygon fill=\"#e58139\" fill-opacity=\"0.980392\" stroke=\"black\" points=\"585.5,-157 343.5,-157 343.5,-89 585.5,-89 585.5,-157\"/>\r\n",
       "<text text-anchor=\"middle\" x=\"464.5\" y=\"-141.8\" font-family=\"Times New Roman,serif\" font-size=\"14.00\">MARITAL_STATUS_Divorced &lt;= 0.5</text>\r\n",
       "<text text-anchor=\"middle\" x=\"464.5\" y=\"-126.8\" font-family=\"Times New Roman,serif\" font-size=\"14.00\">samples = 3.8%</text>\r\n",
       "<text text-anchor=\"middle\" x=\"464.5\" y=\"-111.8\" font-family=\"Times New Roman,serif\" font-size=\"14.00\">value = [0.98, 0.02]</text>\r\n",
       "<text text-anchor=\"middle\" x=\"464.5\" y=\"-96.8\" font-family=\"Times New Roman,serif\" font-size=\"14.00\">class = N</text>\r\n",
       "</g>\r\n",
       "<!-- 1&#45;&gt;5 -->\r\n",
       "<g id=\"edge5\" class=\"edge\"><title>1&#45;&gt;5</title>\r\n",
       "<path fill=\"none\" stroke=\"black\" d=\"M464.5,-192.884C464.5,-184.778 464.5,-175.982 464.5,-167.472\"/>\r\n",
       "<polygon fill=\"black\" stroke=\"black\" points=\"468,-167.299 464.5,-157.299 461,-167.299 468,-167.299\"/>\r\n",
       "</g>\r\n",
       "<!-- 3 -->\r\n",
       "<g id=\"node4\" class=\"node\"><title>3</title>\r\n",
       "<polygon fill=\"#399de5\" fill-opacity=\"0.937255\" stroke=\"black\" points=\"139,-53 0,-53 0,-0 139,-0 139,-53\"/>\r\n",
       "<text text-anchor=\"middle\" x=\"69.5\" y=\"-37.8\" font-family=\"Times New Roman,serif\" font-size=\"14.00\">samples = 30.9%</text>\r\n",
       "<text text-anchor=\"middle\" x=\"69.5\" y=\"-22.8\" font-family=\"Times New Roman,serif\" font-size=\"14.00\">value = [0.058, 0.942]</text>\r\n",
       "<text text-anchor=\"middle\" x=\"69.5\" y=\"-7.8\" font-family=\"Times New Roman,serif\" font-size=\"14.00\">class = Y</text>\r\n",
       "</g>\r\n",
       "<!-- 2&#45;&gt;3 -->\r\n",
       "<g id=\"edge3\" class=\"edge\"><title>2&#45;&gt;3</title>\r\n",
       "<path fill=\"none\" stroke=\"black\" d=\"M170.939,-88.9485C154.629,-79.0686 136.812,-68.2758 120.725,-58.5305\"/>\r\n",
       "<polygon fill=\"black\" stroke=\"black\" points=\"122.353,-55.4244 111.986,-53.2367 118.726,-61.4115 122.353,-55.4244\"/>\r\n",
       "</g>\r\n",
       "<!-- 4 -->\r\n",
       "<g id=\"node5\" class=\"node\"><title>4</title>\r\n",
       "<polygon fill=\"#399de5\" fill-opacity=\"0.513725\" stroke=\"black\" points=\"296,-53 157,-53 157,-0 296,-0 296,-53\"/>\r\n",
       "<text text-anchor=\"middle\" x=\"226.5\" y=\"-37.8\" font-family=\"Times New Roman,serif\" font-size=\"14.00\">samples = 30.0%</text>\r\n",
       "<text text-anchor=\"middle\" x=\"226.5\" y=\"-22.8\" font-family=\"Times New Roman,serif\" font-size=\"14.00\">value = [0.327, 0.673]</text>\r\n",
       "<text text-anchor=\"middle\" x=\"226.5\" y=\"-7.8\" font-family=\"Times New Roman,serif\" font-size=\"14.00\">class = Y</text>\r\n",
       "</g>\r\n",
       "<!-- 2&#45;&gt;4 -->\r\n",
       "<g id=\"edge4\" class=\"edge\"><title>2&#45;&gt;4</title>\r\n",
       "<path fill=\"none\" stroke=\"black\" d=\"M225.85,-88.9485C225.937,-80.7153 226.031,-71.848 226.119,-63.4814\"/>\r\n",
       "<polygon fill=\"black\" stroke=\"black\" points=\"229.622,-63.2732 226.228,-53.2367 222.622,-63.1991 229.622,-63.2732\"/>\r\n",
       "</g>\r\n",
       "<!-- 6 -->\r\n",
       "<g id=\"node7\" class=\"node\"><title>6</title>\r\n",
       "<polygon fill=\"#e58139\" fill-opacity=\"0.984314\" stroke=\"black\" points=\"455,-53 316,-53 316,-0 455,-0 455,-53\"/>\r\n",
       "<text text-anchor=\"middle\" x=\"385.5\" y=\"-37.8\" font-family=\"Times New Roman,serif\" font-size=\"14.00\">samples = 3.8%</text>\r\n",
       "<text text-anchor=\"middle\" x=\"385.5\" y=\"-22.8\" font-family=\"Times New Roman,serif\" font-size=\"14.00\">value = [0.984, 0.016]</text>\r\n",
       "<text text-anchor=\"middle\" x=\"385.5\" y=\"-7.8\" font-family=\"Times New Roman,serif\" font-size=\"14.00\">class = N</text>\r\n",
       "</g>\r\n",
       "<!-- 5&#45;&gt;6 -->\r\n",
       "<g id=\"edge6\" class=\"edge\"><title>5&#45;&gt;6</title>\r\n",
       "<path fill=\"none\" stroke=\"black\" d=\"M436.87,-88.9485C429.299,-79.892 421.086,-70.0682 413.495,-60.9875\"/>\r\n",
       "<polygon fill=\"black\" stroke=\"black\" points=\"416.114,-58.6641 407.015,-53.2367 410.744,-63.1538 416.114,-58.6641\"/>\r\n",
       "</g>\r\n",
       "<!-- 7 -->\r\n",
       "<g id=\"node8\" class=\"node\"><title>7</title>\r\n",
       "<polygon fill=\"#399de5\" fill-opacity=\"0.250980\" stroke=\"black\" points=\"612,-53 473,-53 473,-0 612,-0 612,-53\"/>\r\n",
       "<text text-anchor=\"middle\" x=\"542.5\" y=\"-37.8\" font-family=\"Times New Roman,serif\" font-size=\"14.00\">samples = 0.0%</text>\r\n",
       "<text text-anchor=\"middle\" x=\"542.5\" y=\"-22.8\" font-family=\"Times New Roman,serif\" font-size=\"14.00\">value = [0.429, 0.571]</text>\r\n",
       "<text text-anchor=\"middle\" x=\"542.5\" y=\"-7.8\" font-family=\"Times New Roman,serif\" font-size=\"14.00\">class = Y</text>\r\n",
       "</g>\r\n",
       "<!-- 5&#45;&gt;7 -->\r\n",
       "<g id=\"edge7\" class=\"edge\"><title>5&#45;&gt;7</title>\r\n",
       "<path fill=\"none\" stroke=\"black\" d=\"M491.781,-88.9485C499.256,-79.892 507.364,-70.0682 514.86,-60.9875\"/>\r\n",
       "<polygon fill=\"black\" stroke=\"black\" points=\"517.591,-63.1769 521.257,-53.2367 512.192,-58.721 517.591,-63.1769\"/>\r\n",
       "</g>\r\n",
       "<!-- 9 -->\r\n",
       "<g id=\"node10\" class=\"node\"><title>9</title>\r\n",
       "<polygon fill=\"#e58139\" stroke=\"black\" points=\"821.5,-157 603.5,-157 603.5,-89 821.5,-89 821.5,-157\"/>\r\n",
       "<text text-anchor=\"middle\" x=\"712.5\" y=\"-141.8\" font-family=\"Times New Roman,serif\" font-size=\"14.00\">TXN_CNT_MTH_6_ECO &lt;= 13.0</text>\r\n",
       "<text text-anchor=\"middle\" x=\"712.5\" y=\"-126.8\" font-family=\"Times New Roman,serif\" font-size=\"14.00\">samples = 35.0%</text>\r\n",
       "<text text-anchor=\"middle\" x=\"712.5\" y=\"-111.8\" font-family=\"Times New Roman,serif\" font-size=\"14.00\">value = [1.0, 0.0]</text>\r\n",
       "<text text-anchor=\"middle\" x=\"712.5\" y=\"-96.8\" font-family=\"Times New Roman,serif\" font-size=\"14.00\">class = N</text>\r\n",
       "</g>\r\n",
       "<!-- 8&#45;&gt;9 -->\r\n",
       "<g id=\"edge9\" class=\"edge\"><title>8&#45;&gt;9</title>\r\n",
       "<path fill=\"none\" stroke=\"black\" d=\"M712.5,-192.884C712.5,-184.778 712.5,-175.982 712.5,-167.472\"/>\r\n",
       "<polygon fill=\"black\" stroke=\"black\" points=\"716,-167.299 712.5,-157.299 709,-167.299 716,-167.299\"/>\r\n",
       "</g>\r\n",
       "<!-- 12 -->\r\n",
       "<g id=\"node13\" class=\"node\"><title>12</title>\r\n",
       "<polygon fill=\"#e58139\" fill-opacity=\"0.768627\" stroke=\"black\" points=\"1059.5,-157 839.5,-157 839.5,-89 1059.5,-89 1059.5,-157\"/>\r\n",
       "<text text-anchor=\"middle\" x=\"949.5\" y=\"-141.8\" font-family=\"Times New Roman,serif\" font-size=\"14.00\">STATE_Johor Darul Takzim &lt;= 0.5</text>\r\n",
       "<text text-anchor=\"middle\" x=\"949.5\" y=\"-126.8\" font-family=\"Times New Roman,serif\" font-size=\"14.00\">samples = 0.2%</text>\r\n",
       "<text text-anchor=\"middle\" x=\"949.5\" y=\"-111.8\" font-family=\"Times New Roman,serif\" font-size=\"14.00\">value = [0.812, 0.188]</text>\r\n",
       "<text text-anchor=\"middle\" x=\"949.5\" y=\"-96.8\" font-family=\"Times New Roman,serif\" font-size=\"14.00\">class = N</text>\r\n",
       "</g>\r\n",
       "<!-- 8&#45;&gt;12 -->\r\n",
       "<g id=\"edge12\" class=\"edge\"><title>8&#45;&gt;12</title>\r\n",
       "<path fill=\"none\" stroke=\"black\" d=\"M789.447,-192.884C812.954,-182.767 838.958,-171.575 863.051,-161.206\"/>\r\n",
       "<polygon fill=\"black\" stroke=\"black\" points=\"864.732,-164.293 872.534,-157.125 861.965,-157.863 864.732,-164.293\"/>\r\n",
       "</g>\r\n",
       "<!-- 10 -->\r\n",
       "<g id=\"node11\" class=\"node\"><title>10</title>\r\n",
       "<polygon fill=\"#e58139\" stroke=\"black\" points=\"744,-53 631,-53 631,-0 744,-0 744,-53\"/>\r\n",
       "<text text-anchor=\"middle\" x=\"687.5\" y=\"-37.8\" font-family=\"Times New Roman,serif\" font-size=\"14.00\">samples = 35.0%</text>\r\n",
       "<text text-anchor=\"middle\" x=\"687.5\" y=\"-22.8\" font-family=\"Times New Roman,serif\" font-size=\"14.00\">value = [1.0, 0.0]</text>\r\n",
       "<text text-anchor=\"middle\" x=\"687.5\" y=\"-7.8\" font-family=\"Times New Roman,serif\" font-size=\"14.00\">class = N</text>\r\n",
       "</g>\r\n",
       "<!-- 9&#45;&gt;10 -->\r\n",
       "<g id=\"edge10\" class=\"edge\"><title>9&#45;&gt;10</title>\r\n",
       "<path fill=\"none\" stroke=\"black\" d=\"M703.756,-88.9485C701.53,-80.5323 699.128,-71.4536 696.872,-62.9243\"/>\r\n",
       "<polygon fill=\"black\" stroke=\"black\" points=\"700.25,-62.009 694.309,-53.2367 693.483,-63.7993 700.25,-62.009\"/>\r\n",
       "</g>\r\n",
       "<!-- 11 -->\r\n",
       "<g id=\"node12\" class=\"node\"><title>11</title>\r\n",
       "<polygon fill=\"#399de5\" stroke=\"black\" points=\"874.5,-53 762.5,-53 762.5,-0 874.5,-0 874.5,-53\"/>\r\n",
       "<text text-anchor=\"middle\" x=\"818.5\" y=\"-37.8\" font-family=\"Times New Roman,serif\" font-size=\"14.00\">samples = 0.0%</text>\r\n",
       "<text text-anchor=\"middle\" x=\"818.5\" y=\"-22.8\" font-family=\"Times New Roman,serif\" font-size=\"14.00\">value = [0.0, 1.0]</text>\r\n",
       "<text text-anchor=\"middle\" x=\"818.5\" y=\"-7.8\" font-family=\"Times New Roman,serif\" font-size=\"14.00\">class = Y</text>\r\n",
       "</g>\r\n",
       "<!-- 9&#45;&gt;11 -->\r\n",
       "<g id=\"edge11\" class=\"edge\"><title>9&#45;&gt;11</title>\r\n",
       "<path fill=\"none\" stroke=\"black\" d=\"M749.574,-88.9485C760.04,-79.6175 771.42,-69.4722 781.861,-60.1641\"/>\r\n",
       "<polygon fill=\"black\" stroke=\"black\" points=\"784.496,-62.5038 789.631,-53.2367 779.838,-57.2788 784.496,-62.5038\"/>\r\n",
       "</g>\r\n",
       "<!-- 13 -->\r\n",
       "<g id=\"node14\" class=\"node\"><title>13</title>\r\n",
       "<polygon fill=\"#e58139\" fill-opacity=\"0.890196\" stroke=\"black\" points=\"1005.5,-53 893.5,-53 893.5,-0 1005.5,-0 1005.5,-53\"/>\r\n",
       "<text text-anchor=\"middle\" x=\"949.5\" y=\"-37.8\" font-family=\"Times New Roman,serif\" font-size=\"14.00\">samples = 0.2%</text>\r\n",
       "<text text-anchor=\"middle\" x=\"949.5\" y=\"-22.8\" font-family=\"Times New Roman,serif\" font-size=\"14.00\">value = [0.9, 0.1]</text>\r\n",
       "<text text-anchor=\"middle\" x=\"949.5\" y=\"-7.8\" font-family=\"Times New Roman,serif\" font-size=\"14.00\">class = N</text>\r\n",
       "</g>\r\n",
       "<!-- 12&#45;&gt;13 -->\r\n",
       "<g id=\"edge13\" class=\"edge\"><title>12&#45;&gt;13</title>\r\n",
       "<path fill=\"none\" stroke=\"black\" d=\"M949.5,-88.9485C949.5,-80.7153 949.5,-71.848 949.5,-63.4814\"/>\r\n",
       "<polygon fill=\"black\" stroke=\"black\" points=\"953,-63.2367 949.5,-53.2367 946,-63.2367 953,-63.2367\"/>\r\n",
       "</g>\r\n",
       "<!-- 14 -->\r\n",
       "<g id=\"node15\" class=\"node\"><title>14</title>\r\n",
       "<polygon fill=\"#399de5\" fill-opacity=\"0.400000\" stroke=\"black\" points=\"1163,-53 1024,-53 1024,-0 1163,-0 1163,-53\"/>\r\n",
       "<text text-anchor=\"middle\" x=\"1093.5\" y=\"-37.8\" font-family=\"Times New Roman,serif\" font-size=\"14.00\">samples = 0.0%</text>\r\n",
       "<text text-anchor=\"middle\" x=\"1093.5\" y=\"-22.8\" font-family=\"Times New Roman,serif\" font-size=\"14.00\">value = [0.375, 0.625]</text>\r\n",
       "<text text-anchor=\"middle\" x=\"1093.5\" y=\"-7.8\" font-family=\"Times New Roman,serif\" font-size=\"14.00\">class = Y</text>\r\n",
       "</g>\r\n",
       "<!-- 12&#45;&gt;14 -->\r\n",
       "<g id=\"edge14\" class=\"edge\"><title>12&#45;&gt;14</title>\r\n",
       "<path fill=\"none\" stroke=\"black\" d=\"M999.864,-88.9485C1014.78,-79.1601 1031.06,-68.4756 1045.8,-58.8015\"/>\r\n",
       "<polygon fill=\"black\" stroke=\"black\" points=\"1047.84,-61.6495 1054.28,-53.2367 1044,-55.7971 1047.84,-61.6495\"/>\r\n",
       "</g>\r\n",
       "</g>\r\n",
       "</svg>\r\n"
      ],
      "text/plain": [
       "<graphviz.files.Source at 0x2cb4d4c5a90>"
      ]
     },
     "execution_count": 192,
     "metadata": {},
     "output_type": "execute_result"
    }
   ],
   "source": [
    "export_graphviz(dtc, out_file=\"tree.dot\"\n",
    "                ,class_names=[\"N\", \"Y\"]\n",
    "                ,feature_names=list(X)\n",
    "                ,impurity=False\n",
    "                ,filled=True\n",
    "                ,proportion=True)\n",
    "\n",
    "with open(\"tree.dot\") as f:    \n",
    "    dot_graph = f.read() \n",
    "graphviz.Source(dot_graph)"
   ]
  }
 ],
 "metadata": {
  "kernelspec": {
   "display_name": "Python 3",
   "language": "python",
   "name": "python3"
  },
  "language_info": {
   "codemirror_mode": {
    "name": "ipython",
    "version": 3
   },
   "file_extension": ".py",
   "mimetype": "text/x-python",
   "name": "python",
   "nbconvert_exporter": "python",
   "pygments_lexer": "ipython3",
   "version": "3.6.4"
  }
 },
 "nbformat": 4,
 "nbformat_minor": 2
}
