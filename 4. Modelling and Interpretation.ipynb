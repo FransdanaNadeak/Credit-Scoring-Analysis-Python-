{
 "cells": [
  {
   "cell_type": "markdown",
   "metadata": {},
   "source": [
    "# OVERVIEW"
   ]
  },
  {
   "cell_type": "markdown",
   "metadata": {},
   "source": [
    "Classification is a method to build a model for classify the response variable from feature variable. In this classification case, We can see that data have imbalance dataset. Imbalance dataset means that response variable has different proportion of class. It will be affected if we when apply model for classification, the model will have tendency with majority class. With this situation we can't just see the accuracy for evaluate the model we must using other metrics value for evaluate our model.\n",
    "\n",
    "The list of metrics we will be interesed are:\n",
    "1. Specificity\n",
    "2. Recall\n",
    "3. F1_score\n",
    "4. AUC\n",
    "5. Log_loss\n",
    "6. Geometric Mean (Sensitivity - Specificity)\n",
    "7. Geometric Mean (Precision - Sensitivity)\n",
    "\n",
    "After we choose the metrics, we must choose a method that can balancing target class. For the comparison we will use :\n",
    "1. [Random Under Sampling](#cell1)\n",
    "2. [SMOTE (Synthetic Minority Over-sampling Technique)](#cell2)\n",
    "3. [Combination of Under and Over sampling (SMOTEENN)](#cell3)\n",
    "\n",
    "\n"
   ]
  },
  {
   "cell_type": "markdown",
   "metadata": {},
   "source": [
    "source : https://www.analyticsvidhya.com/blog/2017/03/imbalanced-classification-problem/\n"
   ]
  },
  {
   "cell_type": "markdown",
   "metadata": {},
   "source": [
    "# IMPORT LIBRARY"
   ]
  },
  {
   "cell_type": "code",
   "execution_count": 1,
   "metadata": {},
   "outputs": [],
   "source": [
    "import pandas as pd\n",
    "import numpy as np\n",
    "import matplotlib.pyplot as plt\n",
    "from sklearn.metrics import classification_report\n",
    "import seaborn as sns\n",
    "\n",
    "import warnings\n",
    "warnings.filterwarnings(\"ignore\")"
   ]
  },
  {
   "cell_type": "markdown",
   "metadata": {},
   "source": [
    "# INPUT ALL DATASET"
   ]
  },
  {
   "cell_type": "code",
   "execution_count": 5,
   "metadata": {},
   "outputs": [],
   "source": [
    "df_main = pd.read_csv('CLEAN DATASET.csv')\n",
    "df_main = df_main.drop(['bank_id'],axis=1)\n",
    "df_main = pd.get_dummies(df_main)"
   ]
  },
  {
   "cell_type": "code",
   "execution_count": 6,
   "metadata": {},
   "outputs": [],
   "source": [
    "df_train = df_main[:26315]\n",
    "df_test = df_main[26315:]"
   ]
  },
  {
   "cell_type": "code",
   "execution_count": 84,
   "metadata": {},
   "outputs": [],
   "source": [
    "df_test.to_csv('UKUY.csv')"
   ]
  },
  {
   "cell_type": "code",
   "execution_count": 7,
   "metadata": {},
   "outputs": [],
   "source": [
    "X = df_train.drop(['DELQ_FLG'],1)\n",
    "y = df_train['DELQ_FLG']\n",
    "X_test = df_test.drop(['DELQ_FLG'],1)"
   ]
  },
  {
   "cell_type": "code",
   "execution_count": 8,
   "metadata": {},
   "outputs": [
    {
     "data": {
      "text/plain": [
       "0.0    24187\n",
       "1.0     2128\n",
       "Name: DELQ_FLG, dtype: int64"
      ]
     },
     "execution_count": 8,
     "metadata": {},
     "output_type": "execute_result"
    }
   ],
   "source": [
    "df_main['DELQ_FLG'].value_counts()"
   ]
  },
  {
   "cell_type": "code",
   "execution_count": 9,
   "metadata": {},
   "outputs": [
    {
     "data": {
      "text/plain": [
       "0.0    0.919134\n",
       "1.0    0.080866\n",
       "Name: DELQ_FLG, dtype: float64"
      ]
     },
     "execution_count": 9,
     "metadata": {},
     "output_type": "execute_result"
    }
   ],
   "source": [
    "df_main['DELQ_FLG'].value_counts(normalize = True)"
   ]
  },
  {
   "cell_type": "code",
   "execution_count": 10,
   "metadata": {},
   "outputs": [],
   "source": [
    "X = X.values\n",
    "X_test = X_test.values"
   ]
  },
  {
   "cell_type": "markdown",
   "metadata": {},
   "source": [
    "# MAKE MODELING FUNCTION"
   ]
  },
  {
   "cell_type": "markdown",
   "metadata": {},
   "source": [
    "When we build this function we use some method :\n",
    "1. Training and testing split\n",
    "2. Stratified 10-Fold Cross Validation each method classification in training data\n",
    "3. Balancing data when we build a model, but in validation fold is similar like original data\n",
    "4. Evaluate every model"
   ]
  },
  {
   "cell_type": "code",
   "execution_count": 11,
   "metadata": {},
   "outputs": [],
   "source": [
    "import pandas as pd\n",
    "import numpy as np\n",
    "from imblearn.pipeline import Pipeline\n",
    "from imblearn.over_sampling import SMOTE\n",
    "from imblearn.under_sampling import RandomUnderSampler\n",
    "from imblearn.combine import SMOTEENN\n",
    "from sklearn.model_selection import train_test_split\n",
    "from sklearn.model_selection import GridSearchCV,StratifiedKFold\n",
    "from sklearn.linear_model import LogisticRegression\n",
    "from xgboost import XGBClassifier\n",
    "from imblearn.metrics import geometric_mean_score\n",
    "from sklearn.metrics import make_scorer,accuracy_score,roc_auc_score,precision_score,recall_score,f1_score,log_loss\n",
    "\n",
    "def geometric_mean_pres_rec(y_true,y_pred):\n",
    "    score = precision_score(y_true,y_pred)*recall_score(y_true,y_pred)\n",
    "    return(score)\n",
    "\n",
    "\n",
    "def model_classification(verbose):\n",
    "    # simple classification\n",
    "    from sklearn.linear_model import LogisticRegression\n",
    "    from sklearn.neighbors import KNeighborsClassifier\n",
    "    from sklearn.naive_bayes import BernoulliNB\n",
    "    from sklearn.tree import DecisionTreeClassifier\n",
    "    from sklearn.neural_network import MLPClassifier\n",
    "    \n",
    "    # hard classification\n",
    "    from sklearn.ensemble import RandomForestClassifier, GradientBoostingClassifier\n",
    "    \n",
    "    if verbose:\n",
    "        print(\"Set Simple Model\")\n",
    "    logreg = LogisticRegression(random_state = 123)\n",
    "    knn = KNeighborsClassifier()\n",
    "    nb = BernoulliNB()\n",
    "    dt = DecisionTreeClassifier(random_state = 123)\n",
    "    \n",
    "    if verbose:print(\"Set Hard Model\\n\")\n",
    "    rf = RandomForestClassifier(random_state = 123)\n",
    "    gbc = GradientBoostingClassifier(random_state = 123)\n",
    "    xgb = XGBClassifier(random_state=123)\n",
    "    \n",
    "    model = [logreg,knn,nb,dt,rf,gbc,xgb]\n",
    "    method_name = ['Logistic Regression',\n",
    "                  'K-Nearest Neighbor',\n",
    "                  'Naive Bayes',\n",
    "                  'Decision Tree',\n",
    "                  'Random Forest',\n",
    "                  'Gradient Boosting Classifier',\n",
    "                  'Extreme Gradient Boosting']\n",
    "    return [model,method_name]\n",
    "    \n",
    "def pipe_imbalance(X,y,imb = RandomUnderSampler(),verbose = False):\n",
    "    \n",
    "    df_eval = pd.DataFrame(columns = ['Model',\n",
    "                                    'Accuracy',\n",
    "                                    'Precision',\n",
    "                                    'Recall',\n",
    "                                    'AUC',\n",
    "                                    'F1_score',\n",
    "                                    'Log_loss',\n",
    "                                    'Geometric_Mean',\n",
    "                                    'Geometric_Mean_Precision_Recall',\n",
    "                                    'Time'])\n",
    "\n",
    "    if verbose: print(\"Split Training and Testing\\n\")\n",
    "    X_train, X_test,y_train,y_test = train_test_split(X,\n",
    "                                                        y,\n",
    "                                                        test_size = 0.3,\n",
    "                                                        stratify = y,\n",
    "                                                        random_state = 123)\n",
    "\n",
    "    if verbose: print('Import Classification Method\\n')\n",
    "    \n",
    "    list_model = model_classification(True)\n",
    "    df_eval['Model']=list_model[1]\n",
    "\n",
    "    if verbose: print('Building Pipeline\\n')\n",
    "    pipe = Pipeline([('imb',imb),('classifier',LogisticRegression())])\n",
    "\n",
    "    if verbose: print('Defining Params and Scoring\\n')\n",
    "    params = {'classifier': list_model[0]}\n",
    "    scorers = {'accuracy':make_scorer(accuracy_score),\n",
    "               'precision':make_scorer(precision_score),\n",
    "               'recall':make_scorer(recall_score),\n",
    "               'roc_auc':make_scorer(roc_auc_score),\n",
    "               'f1':make_scorer(f1_score),\n",
    "               'neg_log_loss':'neg_log_loss',\n",
    "               'gm':make_scorer(geometric_mean_score),\n",
    "               'gmpr':make_scorer(geometric_mean_pres_rec)}\n",
    "    \n",
    "    skf = StratifiedKFold(n_splits=10,random_state = 123)\n",
    "    \n",
    "    grid = GridSearchCV(estimator = pipe,\n",
    "                    param_grid = params,\n",
    "                    scoring = scorers,\n",
    "                    refit = 'accuracy',\n",
    "                    cv = skf)\n",
    "    grid.fit(X_train,y_train)\n",
    "    \n",
    "    df_eval['Accuracy']  = grid.cv_results_['mean_test_accuracy']\n",
    "    df_eval['Precision'] = grid.cv_results_['mean_test_precision']\n",
    "    df_eval['Recall'] = grid.cv_results_['mean_test_recall']\n",
    "    df_eval['AUC'] = grid.cv_results_['mean_test_roc_auc']\n",
    "    df_eval['F1_score'] = grid.cv_results_['mean_test_f1']\n",
    "    df_eval['Log_loss'] = grid.cv_results_['mean_test_neg_log_loss']\n",
    "    df_eval['Geometric_Mean'] = grid.cv_results_['mean_test_gm']\n",
    "    df_eval['Geometric_Mean_Precision_Recall'] = grid.cv_results_['mean_test_gmpr']\n",
    "    df_eval['Time'] = grid.cv_results_['mean_fit_time']\n",
    "    \n",
    "    return [grid,df_eval,X_test,y_test]\n"
   ]
  },
  {
   "cell_type": "markdown",
   "metadata": {},
   "source": [
    "# <a id='cell1'></a>USING RANDOM UNDERSAMPLING"
   ]
  },
  {
   "cell_type": "code",
   "execution_count": 12,
   "metadata": {
    "scrolled": false
   },
   "outputs": [
    {
     "name": "stdout",
     "output_type": "stream",
     "text": [
      "Split Training and Testing\n",
      "\n",
      "Import Classification Method\n",
      "\n",
      "Set Simple Model\n",
      "Set Hard Model\n",
      "\n",
      "Building Pipeline\n",
      "\n",
      "Defining Params and Scoring\n",
      "\n"
     ]
    }
   ],
   "source": [
    "df_under = pipe_imbalance(X,y, verbose=True)"
   ]
  },
  {
   "cell_type": "code",
   "execution_count": 22,
   "metadata": {},
   "outputs": [
    {
     "data": {
      "text/html": [
       "<div>\n",
       "<style scoped>\n",
       "    .dataframe tbody tr th:only-of-type {\n",
       "        vertical-align: middle;\n",
       "    }\n",
       "\n",
       "    .dataframe tbody tr th {\n",
       "        vertical-align: top;\n",
       "    }\n",
       "\n",
       "    .dataframe thead th {\n",
       "        text-align: right;\n",
       "    }\n",
       "</style>\n",
       "<table border=\"1\" class=\"dataframe\">\n",
       "  <thead>\n",
       "    <tr style=\"text-align: right;\">\n",
       "      <th></th>\n",
       "      <th>Model</th>\n",
       "      <th>Accuracy</th>\n",
       "      <th>Precision</th>\n",
       "      <th>Recall</th>\n",
       "      <th>AUC</th>\n",
       "      <th>F1_score</th>\n",
       "      <th>Log_loss</th>\n",
       "      <th>Geometric_Mean</th>\n",
       "      <th>Geometric_Mean_Precision_Recall</th>\n",
       "      <th>Time</th>\n",
       "    </tr>\n",
       "  </thead>\n",
       "  <tbody>\n",
       "    <tr>\n",
       "      <th>0</th>\n",
       "      <td>Logistic Regression</td>\n",
       "      <td>0.574267</td>\n",
       "      <td>0.132995</td>\n",
       "      <td>0.772483</td>\n",
       "      <td>0.664653</td>\n",
       "      <td>0.226899</td>\n",
       "      <td>-0.621642</td>\n",
       "      <td>0.655578</td>\n",
       "      <td>0.102810</td>\n",
       "      <td>0.587736</td>\n",
       "    </tr>\n",
       "    <tr>\n",
       "      <th>1</th>\n",
       "      <td>K-Nearest Neighbor</td>\n",
       "      <td>0.517535</td>\n",
       "      <td>0.092593</td>\n",
       "      <td>0.564430</td>\n",
       "      <td>0.538919</td>\n",
       "      <td>0.159074</td>\n",
       "      <td>-2.148959</td>\n",
       "      <td>0.537761</td>\n",
       "      <td>0.052531</td>\n",
       "      <td>0.074082</td>\n",
       "    </tr>\n",
       "    <tr>\n",
       "      <th>2</th>\n",
       "      <td>Naive Bayes</td>\n",
       "      <td>0.509446</td>\n",
       "      <td>0.112474</td>\n",
       "      <td>0.734899</td>\n",
       "      <td>0.612252</td>\n",
       "      <td>0.195088</td>\n",
       "      <td>-1.381179</td>\n",
       "      <td>0.599711</td>\n",
       "      <td>0.082803</td>\n",
       "      <td>0.079778</td>\n",
       "    </tr>\n",
       "    <tr>\n",
       "      <th>3</th>\n",
       "      <td>Decision Tree</td>\n",
       "      <td>0.597231</td>\n",
       "      <td>0.116989</td>\n",
       "      <td>0.607383</td>\n",
       "      <td>0.601860</td>\n",
       "      <td>0.196167</td>\n",
       "      <td>-13.911139</td>\n",
       "      <td>0.601550</td>\n",
       "      <td>0.071253</td>\n",
       "      <td>0.119525</td>\n",
       "    </tr>\n",
       "    <tr>\n",
       "      <th>4</th>\n",
       "      <td>Random Forest</td>\n",
       "      <td>0.667698</td>\n",
       "      <td>0.132334</td>\n",
       "      <td>0.559060</td>\n",
       "      <td>0.618160</td>\n",
       "      <td>0.213960</td>\n",
       "      <td>-0.952678</td>\n",
       "      <td>0.615044</td>\n",
       "      <td>0.074078</td>\n",
       "      <td>0.121792</td>\n",
       "    </tr>\n",
       "    <tr>\n",
       "      <th>5</th>\n",
       "      <td>Gradient Boosting Classifier</td>\n",
       "      <td>0.574756</td>\n",
       "      <td>0.136024</td>\n",
       "      <td>0.794631</td>\n",
       "      <td>0.675018</td>\n",
       "      <td>0.232249</td>\n",
       "      <td>-0.604204</td>\n",
       "      <td>0.664071</td>\n",
       "      <td>0.108224</td>\n",
       "      <td>1.589149</td>\n",
       "    </tr>\n",
       "    <tr>\n",
       "      <th>6</th>\n",
       "      <td>Extreme Gradient Boosting</td>\n",
       "      <td>0.559175</td>\n",
       "      <td>0.132765</td>\n",
       "      <td>0.804027</td>\n",
       "      <td>0.670826</td>\n",
       "      <td>0.227870</td>\n",
       "      <td>-0.604395</td>\n",
       "      <td>0.657220</td>\n",
       "      <td>0.106788</td>\n",
       "      <td>1.685711</td>\n",
       "    </tr>\n",
       "  </tbody>\n",
       "</table>\n",
       "</div>"
      ],
      "text/plain": [
       "                          Model  Accuracy  Precision    Recall       AUC  \\\n",
       "0           Logistic Regression  0.574267   0.132995  0.772483  0.664653   \n",
       "1            K-Nearest Neighbor  0.517535   0.092593  0.564430  0.538919   \n",
       "2                   Naive Bayes  0.509446   0.112474  0.734899  0.612252   \n",
       "3                 Decision Tree  0.597231   0.116989  0.607383  0.601860   \n",
       "4                 Random Forest  0.667698   0.132334  0.559060  0.618160   \n",
       "5  Gradient Boosting Classifier  0.574756   0.136024  0.794631  0.675018   \n",
       "6     Extreme Gradient Boosting  0.559175   0.132765  0.804027  0.670826   \n",
       "\n",
       "   F1_score   Log_loss  Geometric_Mean  Geometric_Mean_Precision_Recall  \\\n",
       "0  0.226899  -0.621642        0.655578                         0.102810   \n",
       "1  0.159074  -2.148959        0.537761                         0.052531   \n",
       "2  0.195088  -1.381179        0.599711                         0.082803   \n",
       "3  0.196167 -13.911139        0.601550                         0.071253   \n",
       "4  0.213960  -0.952678        0.615044                         0.074078   \n",
       "5  0.232249  -0.604204        0.664071                         0.108224   \n",
       "6  0.227870  -0.604395        0.657220                         0.106788   \n",
       "\n",
       "       Time  \n",
       "0  0.587736  \n",
       "1  0.074082  \n",
       "2  0.079778  \n",
       "3  0.119525  \n",
       "4  0.121792  \n",
       "5  1.589149  \n",
       "6  1.685711  "
      ]
     },
     "execution_count": 22,
     "metadata": {},
     "output_type": "execute_result"
    }
   ],
   "source": [
    "df_under[1]"
   ]
  },
  {
   "cell_type": "markdown",
   "metadata": {},
   "source": [
    "# <a id='cell2'></a>USING SMOTE"
   ]
  },
  {
   "cell_type": "code",
   "execution_count": null,
   "metadata": {
    "scrolled": true
   },
   "outputs": [
    {
     "name": "stdout",
     "output_type": "stream",
     "text": [
      "Split Training and Testing\n",
      "\n",
      "Import Classification Method\n",
      "\n",
      "Set Simple Model\n",
      "Set Hard Model\n",
      "\n",
      "Building Pipeline\n",
      "\n",
      "Defining Params and Scoring\n",
      "\n"
     ]
    }
   ],
   "source": [
    "df_smote = pipe_imbalance(X,y,imb=SMOTE(k_neighbors=11), verbose=True)"
   ]
  },
  {
   "cell_type": "code",
   "execution_count": 94,
   "metadata": {},
   "outputs": [
    {
     "data": {
      "text/html": [
       "<div>\n",
       "<style scoped>\n",
       "    .dataframe tbody tr th:only-of-type {\n",
       "        vertical-align: middle;\n",
       "    }\n",
       "\n",
       "    .dataframe tbody tr th {\n",
       "        vertical-align: top;\n",
       "    }\n",
       "\n",
       "    .dataframe thead th {\n",
       "        text-align: right;\n",
       "    }\n",
       "</style>\n",
       "<table border=\"1\" class=\"dataframe\">\n",
       "  <thead>\n",
       "    <tr style=\"text-align: right;\">\n",
       "      <th></th>\n",
       "      <th>Model</th>\n",
       "      <th>Accuracy</th>\n",
       "      <th>Precision</th>\n",
       "      <th>Recall</th>\n",
       "      <th>AUC</th>\n",
       "      <th>F1_score</th>\n",
       "      <th>Log_loss</th>\n",
       "      <th>Geometric_Mean</th>\n",
       "      <th>Geometric_Mean_Precision_Recall</th>\n",
       "      <th>Time</th>\n",
       "    </tr>\n",
       "  </thead>\n",
       "  <tbody>\n",
       "    <tr>\n",
       "      <th>0</th>\n",
       "      <td>Logistic Regression</td>\n",
       "      <td>0.587242</td>\n",
       "      <td>0.126511</td>\n",
       "      <td>0.693960</td>\n",
       "      <td>0.635905</td>\n",
       "      <td>0.213978</td>\n",
       "      <td>-0.620272</td>\n",
       "      <td>0.632697</td>\n",
       "      <td>0.088401</td>\n",
       "      <td>3.765997</td>\n",
       "    </tr>\n",
       "    <tr>\n",
       "      <th>1</th>\n",
       "      <td>K-Nearest Neighbor</td>\n",
       "      <td>0.638165</td>\n",
       "      <td>0.094800</td>\n",
       "      <td>0.406711</td>\n",
       "      <td>0.532623</td>\n",
       "      <td>0.153723</td>\n",
       "      <td>-3.521287</td>\n",
       "      <td>0.516541</td>\n",
       "      <td>0.038981</td>\n",
       "      <td>1.166332</td>\n",
       "    </tr>\n",
       "    <tr>\n",
       "      <th>2</th>\n",
       "      <td>Naive Bayes</td>\n",
       "      <td>0.710912</td>\n",
       "      <td>0.120634</td>\n",
       "      <td>0.409396</td>\n",
       "      <td>0.573422</td>\n",
       "      <td>0.186218</td>\n",
       "      <td>-0.546642</td>\n",
       "      <td>0.548300</td>\n",
       "      <td>0.049819</td>\n",
       "      <td>0.316043</td>\n",
       "    </tr>\n",
       "    <tr>\n",
       "      <th>3</th>\n",
       "      <td>Decision Tree</td>\n",
       "      <td>0.850109</td>\n",
       "      <td>0.133675</td>\n",
       "      <td>0.155705</td>\n",
       "      <td>0.533464</td>\n",
       "      <td>0.143792</td>\n",
       "      <td>-5.177132</td>\n",
       "      <td>0.374507</td>\n",
       "      <td>0.021767</td>\n",
       "      <td>0.803787</td>\n",
       "    </tr>\n",
       "    <tr>\n",
       "      <th>4</th>\n",
       "      <td>Random Forest</td>\n",
       "      <td>0.915581</td>\n",
       "      <td>0.260381</td>\n",
       "      <td>0.020805</td>\n",
       "      <td>0.507567</td>\n",
       "      <td>0.038279</td>\n",
       "      <td>-0.986547</td>\n",
       "      <td>0.141937</td>\n",
       "      <td>0.005958</td>\n",
       "      <td>0.660046</td>\n",
       "    </tr>\n",
       "    <tr>\n",
       "      <th>5</th>\n",
       "      <td>Gradient Boosting Classifier</td>\n",
       "      <td>0.918893</td>\n",
       "      <td>0.000000</td>\n",
       "      <td>0.000000</td>\n",
       "      <td>0.499882</td>\n",
       "      <td>0.000000</td>\n",
       "      <td>-0.266021</td>\n",
       "      <td>0.000000</td>\n",
       "      <td>0.000000</td>\n",
       "      <td>19.848024</td>\n",
       "    </tr>\n",
       "    <tr>\n",
       "      <th>6</th>\n",
       "      <td>Extreme Gradient Boosting</td>\n",
       "      <td>0.919110</td>\n",
       "      <td>0.000000</td>\n",
       "      <td>0.000000</td>\n",
       "      <td>0.500000</td>\n",
       "      <td>0.000000</td>\n",
       "      <td>-0.263879</td>\n",
       "      <td>0.000000</td>\n",
       "      <td>0.000000</td>\n",
       "      <td>14.479818</td>\n",
       "    </tr>\n",
       "  </tbody>\n",
       "</table>\n",
       "</div>"
      ],
      "text/plain": [
       "                          Model  Accuracy  Precision    Recall       AUC  \\\n",
       "0           Logistic Regression  0.587242   0.126511  0.693960  0.635905   \n",
       "1            K-Nearest Neighbor  0.638165   0.094800  0.406711  0.532623   \n",
       "2                   Naive Bayes  0.710912   0.120634  0.409396  0.573422   \n",
       "3                 Decision Tree  0.850109   0.133675  0.155705  0.533464   \n",
       "4                 Random Forest  0.915581   0.260381  0.020805  0.507567   \n",
       "5  Gradient Boosting Classifier  0.918893   0.000000  0.000000  0.499882   \n",
       "6     Extreme Gradient Boosting  0.919110   0.000000  0.000000  0.500000   \n",
       "\n",
       "   F1_score  Log_loss  Geometric_Mean  Geometric_Mean_Precision_Recall  \\\n",
       "0  0.213978 -0.620272        0.632697                         0.088401   \n",
       "1  0.153723 -3.521287        0.516541                         0.038981   \n",
       "2  0.186218 -0.546642        0.548300                         0.049819   \n",
       "3  0.143792 -5.177132        0.374507                         0.021767   \n",
       "4  0.038279 -0.986547        0.141937                         0.005958   \n",
       "5  0.000000 -0.266021        0.000000                         0.000000   \n",
       "6  0.000000 -0.263879        0.000000                         0.000000   \n",
       "\n",
       "        Time  \n",
       "0   3.765997  \n",
       "1   1.166332  \n",
       "2   0.316043  \n",
       "3   0.803787  \n",
       "4   0.660046  \n",
       "5  19.848024  \n",
       "6  14.479818  "
      ]
     },
     "execution_count": 94,
     "metadata": {},
     "output_type": "execute_result"
    }
   ],
   "source": [
    "df_smote[1]"
   ]
  },
  {
   "cell_type": "markdown",
   "metadata": {},
   "source": [
    "# <a id='cell3'></a>USING SMOTEENN"
   ]
  },
  {
   "cell_type": "code",
   "execution_count": 96,
   "metadata": {},
   "outputs": [
    {
     "name": "stdout",
     "output_type": "stream",
     "text": [
      "Split Training and Testing\n",
      "\n",
      "Import Classification Method\n",
      "\n",
      "Set Simple Model\n",
      "Set Hard Model\n",
      "\n",
      "Building Pipeline\n",
      "\n",
      "Defining Params and Scoring\n",
      "\n"
     ]
    }
   ],
   "source": [
    "df_smoteenn = pipe_imbalance(X,y,imb=SMOTEENN(), verbose=True)"
   ]
  },
  {
   "cell_type": "code",
   "execution_count": 97,
   "metadata": {
    "scrolled": true
   },
   "outputs": [
    {
     "data": {
      "text/html": [
       "<div>\n",
       "<style scoped>\n",
       "    .dataframe tbody tr th:only-of-type {\n",
       "        vertical-align: middle;\n",
       "    }\n",
       "\n",
       "    .dataframe tbody tr th {\n",
       "        vertical-align: top;\n",
       "    }\n",
       "\n",
       "    .dataframe thead th {\n",
       "        text-align: right;\n",
       "    }\n",
       "</style>\n",
       "<table border=\"1\" class=\"dataframe\">\n",
       "  <thead>\n",
       "    <tr style=\"text-align: right;\">\n",
       "      <th></th>\n",
       "      <th>Model</th>\n",
       "      <th>Accuracy</th>\n",
       "      <th>Precision</th>\n",
       "      <th>Recall</th>\n",
       "      <th>AUC</th>\n",
       "      <th>F1_score</th>\n",
       "      <th>Log_loss</th>\n",
       "      <th>Geometric_Mean</th>\n",
       "      <th>Geometric_Mean_Precision_Recall</th>\n",
       "      <th>Time</th>\n",
       "    </tr>\n",
       "  </thead>\n",
       "  <tbody>\n",
       "    <tr>\n",
       "      <th>0</th>\n",
       "      <td>Logistic Regression</td>\n",
       "      <td>0.477742</td>\n",
       "      <td>0.119612</td>\n",
       "      <td>0.857047</td>\n",
       "      <td>0.650703</td>\n",
       "      <td>0.209907</td>\n",
       "      <td>-0.756342</td>\n",
       "      <td>0.616965</td>\n",
       "      <td>0.102526</td>\n",
       "      <td>33.199417</td>\n",
       "    </tr>\n",
       "    <tr>\n",
       "      <th>1</th>\n",
       "      <td>K-Nearest Neighbor</td>\n",
       "      <td>0.563409</td>\n",
       "      <td>0.090877</td>\n",
       "      <td>0.488591</td>\n",
       "      <td>0.529292</td>\n",
       "      <td>0.153244</td>\n",
       "      <td>-9.166988</td>\n",
       "      <td>0.527316</td>\n",
       "      <td>0.044636</td>\n",
       "      <td>32.870485</td>\n",
       "    </tr>\n",
       "    <tr>\n",
       "      <th>2</th>\n",
       "      <td>Naive Bayes</td>\n",
       "      <td>0.511618</td>\n",
       "      <td>0.115730</td>\n",
       "      <td>0.757718</td>\n",
       "      <td>0.623838</td>\n",
       "      <td>0.200748</td>\n",
       "      <td>-0.905964</td>\n",
       "      <td>0.608835</td>\n",
       "      <td>0.087810</td>\n",
       "      <td>32.850071</td>\n",
       "    </tr>\n",
       "    <tr>\n",
       "      <th>3</th>\n",
       "      <td>Decision Tree</td>\n",
       "      <td>0.815147</td>\n",
       "      <td>0.135463</td>\n",
       "      <td>0.238255</td>\n",
       "      <td>0.552087</td>\n",
       "      <td>0.172593</td>\n",
       "      <td>-6.384709</td>\n",
       "      <td>0.453674</td>\n",
       "      <td>0.032524</td>\n",
       "      <td>32.099859</td>\n",
       "    </tr>\n",
       "    <tr>\n",
       "      <th>4</th>\n",
       "      <td>Random Forest</td>\n",
       "      <td>0.903855</td>\n",
       "      <td>0.209250</td>\n",
       "      <td>0.065772</td>\n",
       "      <td>0.521693</td>\n",
       "      <td>0.099932</td>\n",
       "      <td>-0.702195</td>\n",
       "      <td>0.251669</td>\n",
       "      <td>0.014725</td>\n",
       "      <td>32.572409</td>\n",
       "    </tr>\n",
       "    <tr>\n",
       "      <th>5</th>\n",
       "      <td>Gradient Boosting Classifier</td>\n",
       "      <td>0.903963</td>\n",
       "      <td>0.209846</td>\n",
       "      <td>0.067785</td>\n",
       "      <td>0.522670</td>\n",
       "      <td>0.102213</td>\n",
       "      <td>-0.301254</td>\n",
       "      <td>0.255371</td>\n",
       "      <td>0.014971</td>\n",
       "      <td>41.679651</td>\n",
       "    </tr>\n",
       "    <tr>\n",
       "      <th>6</th>\n",
       "      <td>Extreme Gradient Boosting</td>\n",
       "      <td>0.904289</td>\n",
       "      <td>0.220122</td>\n",
       "      <td>0.071812</td>\n",
       "      <td>0.524683</td>\n",
       "      <td>0.108000</td>\n",
       "      <td>-0.299005</td>\n",
       "      <td>0.261523</td>\n",
       "      <td>0.017196</td>\n",
       "      <td>45.580720</td>\n",
       "    </tr>\n",
       "  </tbody>\n",
       "</table>\n",
       "</div>"
      ],
      "text/plain": [
       "                          Model  Accuracy  Precision    Recall       AUC  \\\n",
       "0           Logistic Regression  0.477742   0.119612  0.857047  0.650703   \n",
       "1            K-Nearest Neighbor  0.563409   0.090877  0.488591  0.529292   \n",
       "2                   Naive Bayes  0.511618   0.115730  0.757718  0.623838   \n",
       "3                 Decision Tree  0.815147   0.135463  0.238255  0.552087   \n",
       "4                 Random Forest  0.903855   0.209250  0.065772  0.521693   \n",
       "5  Gradient Boosting Classifier  0.903963   0.209846  0.067785  0.522670   \n",
       "6     Extreme Gradient Boosting  0.904289   0.220122  0.071812  0.524683   \n",
       "\n",
       "   F1_score  Log_loss  Geometric_Mean  Geometric_Mean_Precision_Recall  \\\n",
       "0  0.209907 -0.756342        0.616965                         0.102526   \n",
       "1  0.153244 -9.166988        0.527316                         0.044636   \n",
       "2  0.200748 -0.905964        0.608835                         0.087810   \n",
       "3  0.172593 -6.384709        0.453674                         0.032524   \n",
       "4  0.099932 -0.702195        0.251669                         0.014725   \n",
       "5  0.102213 -0.301254        0.255371                         0.014971   \n",
       "6  0.108000 -0.299005        0.261523                         0.017196   \n",
       "\n",
       "        Time  \n",
       "0  33.199417  \n",
       "1  32.870485  \n",
       "2  32.850071  \n",
       "3  32.099859  \n",
       "4  32.572409  \n",
       "5  41.679651  \n",
       "6  45.580720  "
      ]
     },
     "execution_count": 97,
     "metadata": {},
     "output_type": "execute_result"
    }
   ],
   "source": [
    "df_smoteenn[1]"
   ]
  },
  {
   "cell_type": "markdown",
   "metadata": {},
   "source": [
    "# LAST EVALUATION USING TRAINING AND TESTING DATA"
   ]
  },
  {
   "cell_type": "code",
   "execution_count": 112,
   "metadata": {},
   "outputs": [
    {
     "name": "stdout",
     "output_type": "stream",
     "text": [
      "Wall time: 2.36 s\n"
     ]
    }
   ],
   "source": [
    "%%time\n",
    "from xgboost import XGBClassifier\n",
    "from sklearn.model_selection import train_test_split\n",
    "from imblearn.under_sampling import RandomUnderSampler\n",
    "X_train,X_test,y_train,y_test = train_test_split(X,y,test_size = 0.3,random_state =123)\n",
    "rus = RandomUnderSampler()\n",
    "X_sampled,y_sampled = rus.fit_resample(X_train,y_train)\n",
    "xgb = XGBClassifier()\n",
    "xgb.fit(X_sampled,y_sampled)"
   ]
  },
  {
   "cell_type": "code",
   "execution_count": 113,
   "metadata": {},
   "outputs": [],
   "source": [
    "y_prob = xgb.predict_proba(X_test)"
   ]
  },
  {
   "cell_type": "code",
   "execution_count": 114,
   "metadata": {},
   "outputs": [],
   "source": [
    "from sklearn.metrics import roc_curve\n",
    "\n",
    "def plot_roc_curve(ytest, P_ensemble):\n",
    "    \"\"\"Plot the roc curve for base learners and ensemble.\"\"\"\n",
    "    plt.figure(figsize=(10, 8))\n",
    "    plt.plot([0, 1], [0, 1], 'k--')\n",
    "\n",
    "    fpr, tpr, _ = roc_curve(y_test, P_ensemble)\n",
    "    plt.plot(fpr, tpr)\n",
    "        \n",
    "    plt.xlabel('False positive rate')\n",
    "    plt.ylabel('True positive rate')\n",
    "    plt.title('ROC curve')\n",
    "    plt.show()\n"
   ]
  },
  {
   "cell_type": "code",
   "execution_count": 115,
   "metadata": {
    "scrolled": false
   },
   "outputs": [
    {
     "data": {
      "image/png": "[encoded data removed]",
      "text/plain": [
       "<Figure size 720x576 with 1 Axes>"
      ]
     },
     "metadata": {
      "needs_background": "light"
     },
     "output_type": "display_data"
    }
   ],
   "source": [
    "plot_roc_curve(y_test,y_prob[:,1])"
   ]
  },
  {
   "cell_type": "code",
   "execution_count": 120,
   "metadata": {},
   "outputs": [
    {
     "name": "stdout",
     "output_type": "stream",
     "text": [
      "              precision    recall  f1-score   support\n",
      "\n",
      "         0.0       0.97      0.56      0.71      7259\n",
      "         1.0       0.14      0.81      0.24       636\n",
      "\n",
      "   micro avg       0.58      0.58      0.58      7895\n",
      "   macro avg       0.55      0.68      0.47      7895\n",
      "weighted avg       0.90      0.58      0.67      7895\n",
      "\n"
     ]
    }
   ],
   "source": [
    "y_pred = xgb.predict(X_test)\n",
    "print(classification_report(y_test,y_pred))"
   ]
  },
  {
   "cell_type": "markdown",
   "metadata": {},
   "source": [
    "# BUSINESS PROBLEM"
   ]
  },
  {
   "cell_type": "code",
   "execution_count": 151,
   "metadata": {},
   "outputs": [
    {
     "data": {
      "text/html": [
       "<div>\n",
       "<style scoped>\n",
       "    .dataframe tbody tr th:only-of-type {\n",
       "        vertical-align: middle;\n",
       "    }\n",
       "\n",
       "    .dataframe tbody tr th {\n",
       "        vertical-align: top;\n",
       "    }\n",
       "\n",
       "    .dataframe thead th {\n",
       "        text-align: right;\n",
       "    }\n",
       "</style>\n",
       "<table border=\"1\" class=\"dataframe\">\n",
       "  <thead>\n",
       "    <tr style=\"text-align: right;\">\n",
       "      <th></th>\n",
       "      <th>0</th>\n",
       "      <th>1</th>\n",
       "    </tr>\n",
       "  </thead>\n",
       "  <tbody>\n",
       "    <tr>\n",
       "      <th>0</th>\n",
       "      <td>4042</td>\n",
       "      <td>3217</td>\n",
       "    </tr>\n",
       "    <tr>\n",
       "      <th>1</th>\n",
       "      <td>120</td>\n",
       "      <td>516</td>\n",
       "    </tr>\n",
       "  </tbody>\n",
       "</table>\n",
       "</div>"
      ],
      "text/plain": [
       "      0     1\n",
       "0  4042  3217\n",
       "1   120   516"
      ]
     },
     "execution_count": 151,
     "metadata": {},
     "output_type": "execute_result"
    }
   ],
   "source": [
    "from sklearn.metrics import confusion_matrix\n",
    "pd.DataFrame(confusion_matrix(y_test,y_pred))"
   ]
  },
  {
   "cell_type": "markdown",
   "metadata": {},
   "source": [
    "## DELINQUENCY RATE"
   ]
  },
  {
   "cell_type": "code",
   "execution_count": 154,
   "metadata": {},
   "outputs": [],
   "source": [
    "DR_now = y_test.value_counts(normalize=True)[1]*100"
   ]
  },
  {
   "cell_type": "code",
   "execution_count": 155,
   "metadata": {
    "scrolled": true
   },
   "outputs": [],
   "source": [
    "DR_after = 516*100/len(y_test)"
   ]
  },
  {
   "cell_type": "code",
   "execution_count": 156,
   "metadata": {},
   "outputs": [
    {
     "data": {
      "text/plain": [
       "-1.519949335022166"
      ]
     },
     "execution_count": 156,
     "metadata": {},
     "output_type": "execute_result"
    }
   ],
   "source": [
    "DR_after-DR_now"
   ]
  },
  {
   "cell_type": "markdown",
   "metadata": {},
   "source": [
    "Delinquency Rate from 8.056% to 6.536%. We can reduce 1.52%"
   ]
  },
  {
   "cell_type": "markdown",
   "metadata": {},
   "source": [
    "## POTENTIAL REVENUE LOSS"
   ]
  },
  {
   "cell_type": "markdown",
   "metadata": {},
   "source": [
    "Potential revenue loss is percentage wrong classified delinquent customer from all customer "
   ]
  },
  {
   "cell_type": "code",
   "execution_count": 158,
   "metadata": {},
   "outputs": [
    {
     "data": {
      "text/plain": [
       "1.5199493350221658"
      ]
     },
     "execution_count": 158,
     "metadata": {},
     "output_type": "execute_result"
    }
   ],
   "source": [
    "RL = 120/len(y_test)\n",
    "RL*100"
   ]
  },
  {
   "cell_type": "markdown",
   "metadata": {},
   "source": [
    "So the potential revenue loss is 1.52%"
   ]
  },
  {
   "cell_type": "markdown",
   "metadata": {},
   "source": [
    "# TOP 20 FEATURE IMPORTANCES"
   ]
  },
  {
   "cell_type": "code",
   "execution_count": 121,
   "metadata": {},
   "outputs": [],
   "source": [
    "importances = xgb.feature_importances_\n",
    "indices = np.argsort(importances)[::-1]"
   ]
  },
  {
   "cell_type": "code",
   "execution_count": 125,
   "metadata": {},
   "outputs": [],
   "source": [
    "to_bar = pd.DataFrame([df_main.drop(['DELQ_FLG'],1).columns[indices],importances[indices]]).transpose()\n",
    "to_bar.columns = ['Feature','Value']"
   ]
  },
  {
   "cell_type": "code",
   "execution_count": 135,
   "metadata": {
    "scrolled": false
   },
   "outputs": [
    {
     "name": "stdout",
     "output_type": "stream",
     "text": [
      "Feature ranking:\n",
      "1. feature loan_application_day (0.154589)\n",
      "2. feature AGE (0.123994)\n",
      "3. feature SA_AVG_BAL (0.090177)\n",
      "4. feature CC_CNT (0.048309)\n",
      "5. feature CNT_MOBILE_PHONE (0.032206)\n",
      "6. feature INS_CNT (0.028986)\n",
      "7. feature POSTPAID_TXN_CNT_TOTAL_TELCO (0.020934)\n",
      "8. feature MARITAL_STATUS_Single (0.020934)\n",
      "9. feature PREPAID_AMT_MTH_6 (0.020934)\n",
      "10. feature INS_LIFE_CNT (0.020934)\n",
      "11. feature STATE_Johor Darul Takzim (0.017713)\n",
      "12. feature OCC_DESC_NON-EXECUTIVE (0.017713)\n",
      "13. feature OCC_DESC_SELF EMPLOYED (0.016103)\n",
      "14. feature OCC_DESC_OTHERS (0.016103)\n",
      "15. feature PREPAID_CNT_MTH_5 (0.016103)\n",
      "16. feature samsung (0.014493)\n",
      "17. feature OCC_DESC_CEO/DIRECTOR (0.014493)\n",
      "18. feature MOBILE (0.012882)\n",
      "19. feature PREPAID_TXN_AMT_TOTAL_TELCO (0.012882)\n",
      "20. feature OCC_DESC_MANAGER OR SUPERVISOR (0.012882)\n"
     ]
    },
    {
     "data": {
      "image/png": "[encoded data removed]",
      "text/plain": [
       "<Figure size 720x1080 with 1 Axes>"
      ]
     },
     "metadata": {
      "needs_background": "light"
     },
     "output_type": "display_data"
    }
   ],
   "source": [
    "# Print the feature ranking\n",
    "print(\"Feature ranking:\")\n",
    "\n",
    "for f in range(20):\n",
    "    print(\"%d. feature %s (%f)\" % (f + 1, df_main.drop(['DELQ_FLG'],1).columns[indices[f]], importances[indices[f]]))\n",
    "\n",
    "# Plot the feature importances of the forest\n",
    "\n",
    "plt.figure(1, figsize=(10, 15))\n",
    "plt.title(\"Feature importances\")\n",
    "ax = sns.barplot(x='Value',y='Feature',data=to_bar[0:20])\n",
    "plt.xlabel('Importances Value', fontsize = 20)\n",
    "plt.ylabel('Feature', fontsize = 20)\n",
    "plt.show()\n"
   ]
  },
  {
   "cell_type": "markdown",
   "metadata": {},
   "source": [
    "# PREDICTION"
   ]
  },
  {
   "cell_type": "code",
   "execution_count": 47,
   "metadata": {
    "scrolled": true
   },
   "outputs": [
    {
     "name": "stdout",
     "output_type": "stream",
     "text": [
      "Wall time: 0 ns\n"
     ]
    },
    {
     "data": {
      "text/plain": [
       "XGBClassifier(base_score=0.5, booster='gbtree', colsample_bylevel=1,\n",
       "       colsample_bytree=1, gamma=0, learning_rate=0.1, max_delta_step=0,\n",
       "       max_depth=3, min_child_weight=1, missing=None, n_estimators=100,\n",
       "       n_jobs=1, nthread=None, objective='binary:logistic', random_state=0,\n",
       "       reg_alpha=0, reg_lambda=1, scale_pos_weight=1, seed=None,\n",
       "       silent=True, subsample=1)"
      ]
     },
     "execution_count": 47,
     "metadata": {},
     "output_type": "execute_result"
    }
   ],
   "source": [
    "%time\n",
    "from xgboost import XGBClassifier\n",
    "from imblearn.under_sampling import RandomUnderSampler\n",
    "rus = RandomUnderSampler(random_state = 123)\n",
    "X_resampled,y_resampled = rus.fit_resample(X,y)\n",
    "xgb = XGBClassifier()\n",
    "xgb.fit(X_resampled,y_resampled)\n"
   ]
  },
  {
   "cell_type": "code",
   "execution_count": 48,
   "metadata": {},
   "outputs": [],
   "source": [
    "y_pred = xgb.predict(X_test)\n",
    "y_prob = xgb.predict_proba(X_test)"
   ]
  },
  {
   "cell_type": "code",
   "execution_count": 53,
   "metadata": {},
   "outputs": [],
   "source": [
    "predik = pd.DataFrame({'DELQ_FLG':y_pred,\n",
    "         'MODEL_SCORE':y_prob[:,1]}) "
   ]
  },
  {
   "cell_type": "code",
   "execution_count": 54,
   "metadata": {},
   "outputs": [],
   "source": [
    "predik.to_csv('Hasil Predik.csv')"
   ]
  }
 ],
 "metadata": {
  "kernelspec": {
   "display_name": "Python 3",
   "language": "python",
   "name": "python3"
  },
  "language_info": {
   "codemirror_mode": {
    "name": "ipython",
    "version": 3
   },
   "file_extension": ".py",
   "mimetype": "text/x-python",
   "name": "python",
   "nbconvert_exporter": "python",
   "pygments_lexer": "ipython3",
   "version": "3.6.4"
  }
 },
 "nbformat": 4,
 "nbformat_minor": 2
}
